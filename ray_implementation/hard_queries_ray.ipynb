{
 "cells": [
  {
   "cell_type": "code",
   "execution_count": null,
   "id": "1b0aac8a-78db-4858-8b1a-0ae322acf374",
   "metadata": {},
   "outputs": [
    {
     "name": "stderr",
     "output_type": "stream",
     "text": [
      "2024-11-18 20:08:55,155\tINFO worker.py:1816 -- Started a local Ray instance.\n"
     ]
    },
    {
     "name": "stdout",
     "output_type": "stream",
     "text": [
      "\u001b[36m(base_hard_ray_queries pid=118969)\u001b[0m ,base_hard_ray_queries\n"
     ]
    },
    {
     "data": {
      "application/vnd.jupyter.widget-view+json": {
       "model_id": "6e4821df15b6415991f56dbe46f7d03c",
       "version_major": 2,
       "version_minor": 0
      },
      "text/plain": [
       "(pid=118969) Running 0: 0.00 row [00:00, ? row/s]"
      ]
     },
     "metadata": {},
     "output_type": "display_data"
    },
    {
     "name": "stderr",
     "output_type": "stream",
     "text": [
      "\u001b[36m(base_hard_ray_queries pid=118969)\u001b[0m Starting execution of Dataset. Full logs are in /tmp/ray/session_2024-11-18_20-08-53_320657_118638/logs/ray-data\n",
      "\u001b[36m(base_hard_ray_queries pid=118969)\u001b[0m Execution plan of Dataset: InputDataBuffer[Input] -> TaskPoolMapOperator[ReadCSV]\n"
     ]
    },
    {
     "data": {
      "application/vnd.jupyter.widget-view+json": {
       "model_id": "cfc0c9074d5e4f3487483597f5802de2",
       "version_major": 2,
       "version_minor": 0
      },
      "text/plain": [
       "(pid=118969) Running 0: 0.00 row [00:00, ? row/s]"
      ]
     },
     "metadata": {},
     "output_type": "display_data"
    },
    {
     "data": {
      "application/vnd.jupyter.widget-view+json": {
       "model_id": "47d2f2f36f1e477398421817399064b7",
       "version_major": 2,
       "version_minor": 0
      },
      "text/plain": [
       "(pid=118969) Sort Sample 2:   0%|                                                         | 0.00/1.00 [00:00<?…"
      ]
     },
     "metadata": {},
     "output_type": "display_data"
    },
    {
     "data": {
      "application/vnd.jupyter.widget-view+json": {
       "model_id": "b1ef70450b184b5cb8b1915bfdbc6f80",
       "version_major": 2,
       "version_minor": 0
      },
      "text/plain": [
       "(pid=118969) Shuffle Map 3:   0%|                                                         | 0.00/1.00 [00:00<?…"
      ]
     },
     "metadata": {},
     "output_type": "display_data"
    },
    {
     "data": {
      "application/vnd.jupyter.widget-view+json": {
       "model_id": "137d505a68e3475fa03cb7b27f90f3c5",
       "version_major": 2,
       "version_minor": 0
      },
      "text/plain": [
       "(pid=118969) Shuffle Reduce 4:   0%|                                                      | 0.00/1.00 [00:00<?…"
      ]
     },
     "metadata": {},
     "output_type": "display_data"
    },
    {
     "name": "stderr",
     "output_type": "stream",
     "text": [
      "\u001b[36m(base_hard_ray_queries pid=118969)\u001b[0m Starting execution of Dataset. Full logs are in /tmp/ray/session_2024-11-18_20-08-53_320657_118638/logs/ray-data\n",
      "\u001b[36m(base_hard_ray_queries pid=118969)\u001b[0m Execution plan of Dataset: InputDataBuffer[Input] -> TaskPoolMapOperator[ReadCSV] -> AllToAllOperator[Aggregate]\n"
     ]
    },
    {
     "data": {
      "application/vnd.jupyter.widget-view+json": {
       "model_id": "d4dcca8461384bdab1680290a20145eb",
       "version_major": 2,
       "version_minor": 0
      },
      "text/plain": [
       "(pid=118969) Running 0: 0.00 row [00:00, ? row/s]"
      ]
     },
     "metadata": {},
     "output_type": "display_data"
    },
    {
     "name": "stderr",
     "output_type": "stream",
     "text": [
      "\u001b[36m(base_hard_ray_queries pid=118969)\u001b[0m Starting execution of Dataset. Full logs are in /tmp/ray/session_2024-11-18_20-08-53_320657_118638/logs/ray-data\n",
      "\u001b[36m(base_hard_ray_queries pid=118969)\u001b[0m Execution plan of Dataset: InputDataBuffer[Input] -> TaskPoolMapOperator[FlatMap(<lambda>)]\n",
      "\u001b[36m(raylet)\u001b[0m Spilled 2991 MiB, 100 objects, write throughput 548 MiB/s. Set RAY_verbose_spill_logs=0 to disable this message.\n"
     ]
    },
    {
     "data": {
      "application/vnd.jupyter.widget-view+json": {
       "model_id": "999004248d67451eb1c68ba4ec9785c2",
       "version_major": 2,
       "version_minor": 0
      },
      "text/plain": [
       "(pid=118969) Running 0: 0.00 row [00:00, ? row/s]"
      ]
     },
     "metadata": {},
     "output_type": "display_data"
    },
    {
     "data": {
      "application/vnd.jupyter.widget-view+json": {
       "model_id": "5866d4e2f2be43c5b399b7e4d71fc7ea",
       "version_major": 2,
       "version_minor": 0
      },
      "text/plain": [
       "(pid=118969) Sort Sample 2:   0%|                                                         | 0.00/1.00 [00:00<?…"
      ]
     },
     "metadata": {},
     "output_type": "display_data"
    },
    {
     "data": {
      "application/vnd.jupyter.widget-view+json": {
       "model_id": "9fce33ea690f4e86a710296864d09d81",
       "version_major": 2,
       "version_minor": 0
      },
      "text/plain": [
       "(pid=118969) Shuffle Map 3:   0%|                                                         | 0.00/1.00 [00:00<?…"
      ]
     },
     "metadata": {},
     "output_type": "display_data"
    },
    {
     "data": {
      "application/vnd.jupyter.widget-view+json": {
       "model_id": "bcf33a0ebda94eec9d053b1d461d1cfa",
       "version_major": 2,
       "version_minor": 0
      },
      "text/plain": [
       "(pid=118969) Shuffle Reduce 4:   0%|                                                      | 0.00/1.00 [00:00<?…"
      ]
     },
     "metadata": {},
     "output_type": "display_data"
    },
    {
     "name": "stderr",
     "output_type": "stream",
     "text": [
      "\u001b[36m(base_hard_ray_queries pid=118969)\u001b[0m Starting execution of Dataset. Full logs are in /tmp/ray/session_2024-11-18_20-08-53_320657_118638/logs/ray-data\n",
      "\u001b[36m(base_hard_ray_queries pid=118969)\u001b[0m Execution plan of Dataset: InputDataBuffer[Input] -> AllToAllOperator[Aggregate]\n"
     ]
    },
    {
     "name": "stdout",
     "output_type": "stream",
     "text": [
      "\u001b[36m(base_hard_ray_queries pid=118969)\u001b[0m hard,Q1,14.658638000488281,13606312\n"
     ]
    },
    {
     "data": {
      "application/vnd.jupyter.widget-view+json": {
       "model_id": "8ff5c7068d4a4aeca748f0acbf38f04c",
       "version_major": 2,
       "version_minor": 0
      },
      "text/plain": [
       "(pid=118969) Running 0: 0.00 row [00:00, ? row/s]"
      ]
     },
     "metadata": {},
     "output_type": "display_data"
    },
    {
     "data": {
      "application/vnd.jupyter.widget-view+json": {
       "model_id": "b4a01b3b52ba4dbfb12ba8f1098aafcd",
       "version_major": 2,
       "version_minor": 0
      },
      "text/plain": [
       "(pid=118969) Sort Sample 2:   0%|                                                         | 0.00/1.00 [00:00<?…"
      ]
     },
     "metadata": {},
     "output_type": "display_data"
    },
    {
     "data": {
      "application/vnd.jupyter.widget-view+json": {
       "model_id": "0762bedd13a649109b505b84fbfe3cf3",
       "version_major": 2,
       "version_minor": 0
      },
      "text/plain": [
       "(pid=118969) Shuffle Map 3:   0%|                                                         | 0.00/1.00 [00:00<?…"
      ]
     },
     "metadata": {},
     "output_type": "display_data"
    },
    {
     "data": {
      "application/vnd.jupyter.widget-view+json": {
       "model_id": "8e339c38a4cd4826807e2a854826d99b",
       "version_major": 2,
       "version_minor": 0
      },
      "text/plain": [
       "(pid=118969) Shuffle Reduce 4:   0%|                                                      | 0.00/1.00 [00:00<?…"
      ]
     },
     "metadata": {},
     "output_type": "display_data"
    },
    {
     "name": "stderr",
     "output_type": "stream",
     "text": [
      "\u001b[36m(base_hard_ray_queries pid=118969)\u001b[0m Starting execution of Dataset. Full logs are in /tmp/ray/session_2024-11-18_20-08-53_320657_118638/logs/ray-data\n",
      "\u001b[36m(base_hard_ray_queries pid=118969)\u001b[0m Execution plan of Dataset: InputDataBuffer[Input] -> TaskPoolMapOperator[ReadCSV] -> AllToAllOperator[Aggregate]\n",
      "\u001b[36m(base_hard_ray_queries pid=118969)\u001b[0m Warning: The Ray cluster currently does not have any available CPUs. The Dataset job will hang unless more CPUs are freed up. A common reason is that cluster resources are used by Actors or Tune trials; see the following link for more details: https://docs.ray.io/en/latest/data/data-internals.html#ray-data-and-tune\n",
      "\u001b[36m(base_hard_ray_queries pid=118969)\u001b[0m Starting execution of Dataset. Full logs are in /tmp/ray/session_2024-11-18_20-08-53_320657_118638/logs/ray-data\n",
      "\u001b[36m(base_hard_ray_queries pid=118969)\u001b[0m Execution plan of Dataset: InputDataBuffer[Input] -> TaskPoolMapOperator[FlatMap(<lambda>)]\n"
     ]
    },
    {
     "data": {
      "application/vnd.jupyter.widget-view+json": {
       "model_id": "f349efb8c7f745869b31d52c03451d7b",
       "version_major": 2,
       "version_minor": 0
      },
      "text/plain": [
       "(pid=118969) Running 0: 0.00 row [00:00, ? row/s]"
      ]
     },
     "metadata": {},
     "output_type": "display_data"
    },
    {
     "name": "stderr",
     "output_type": "stream",
     "text": [
      "\u001b[36m(raylet)\u001b[0m Spilled 4675 MiB, 228 objects, write throughput 684 MiB/s.\n"
     ]
    },
    {
     "data": {
      "application/vnd.jupyter.widget-view+json": {
       "model_id": "c1344db22359464a9c2286c8a988890d",
       "version_major": 2,
       "version_minor": 0
      },
      "text/plain": [
       "(pid=118969) Running 0: 0.00 row [00:00, ? row/s]"
      ]
     },
     "metadata": {},
     "output_type": "display_data"
    },
    {
     "data": {
      "application/vnd.jupyter.widget-view+json": {
       "model_id": "e925239aeb9b4e2f8dba0de023211ceb",
       "version_major": 2,
       "version_minor": 0
      },
      "text/plain": [
       "(pid=118969) Sort Sample 2:   0%|                                                         | 0.00/1.00 [00:00<?…"
      ]
     },
     "metadata": {},
     "output_type": "display_data"
    },
    {
     "data": {
      "application/vnd.jupyter.widget-view+json": {
       "model_id": "d4bae241c3f24dd99eba246e014ab2fc",
       "version_major": 2,
       "version_minor": 0
      },
      "text/plain": [
       "(pid=118969) Shuffle Map 3:   0%|                                                         | 0.00/1.00 [00:00<?…"
      ]
     },
     "metadata": {},
     "output_type": "display_data"
    },
    {
     "data": {
      "application/vnd.jupyter.widget-view+json": {
       "model_id": "f29c2ea66a5e40dcb82d2d7459852068",
       "version_major": 2,
       "version_minor": 0
      },
      "text/plain": [
       "(pid=118969) Shuffle Reduce 4:   0%|                                                      | 0.00/1.00 [00:00<?…"
      ]
     },
     "metadata": {},
     "output_type": "display_data"
    },
    {
     "name": "stderr",
     "output_type": "stream",
     "text": [
      "\u001b[36m(base_hard_ray_queries pid=118969)\u001b[0m Starting execution of Dataset. Full logs are in /tmp/ray/session_2024-11-18_20-08-53_320657_118638/logs/ray-data\n",
      "\u001b[36m(base_hard_ray_queries pid=118969)\u001b[0m Execution plan of Dataset: InputDataBuffer[Input] -> AllToAllOperator[Aggregate]\n"
     ]
    },
    {
     "name": "stdout",
     "output_type": "stream",
     "text": [
      "\u001b[36m(base_hard_ray_queries pid=118969)\u001b[0m hard,Q2,9.577636480331421,13606312\n"
     ]
    },
    {
     "data": {
      "application/vnd.jupyter.widget-view+json": {
       "model_id": "601635872f5b423391d70f473d8cba5d",
       "version_major": 2,
       "version_minor": 0
      },
      "text/plain": [
       "(pid=118969) Running 0: 0.00 row [00:00, ? row/s]"
      ]
     },
     "metadata": {},
     "output_type": "display_data"
    },
    {
     "name": "stderr",
     "output_type": "stream",
     "text": [
      "\u001b[36m(base_hard_ray_queries pid=118969)\u001b[0m Starting execution of Dataset. Full logs are in /tmp/ray/session_2024-11-18_20-08-53_320657_118638/logs/ray-data\n",
      "\u001b[36m(base_hard_ray_queries pid=118969)\u001b[0m Execution plan of Dataset: InputDataBuffer[Input] -> TaskPoolMapOperator[ReadCSV] -> AllToAllOperator[Aggregate]\n"
     ]
    },
    {
     "data": {
      "application/vnd.jupyter.widget-view+json": {
       "model_id": "37bd13f1e092469c87b6e09a7ad03ca5",
       "version_major": 2,
       "version_minor": 0
      },
      "text/plain": [
       "(pid=118969) Sort Sample 2:   0%|                                                         | 0.00/1.00 [00:00<?…"
      ]
     },
     "metadata": {},
     "output_type": "display_data"
    },
    {
     "data": {
      "application/vnd.jupyter.widget-view+json": {
       "model_id": "b14c3fd799e94f3ebb4db70064c130cf",
       "version_major": 2,
       "version_minor": 0
      },
      "text/plain": [
       "(pid=118969) Shuffle Map 3:   0%|                                                         | 0.00/1.00 [00:00<?…"
      ]
     },
     "metadata": {},
     "output_type": "display_data"
    },
    {
     "data": {
      "application/vnd.jupyter.widget-view+json": {
       "model_id": "79430a917e99494ca9a664c82bf7c9ff",
       "version_major": 2,
       "version_minor": 0
      },
      "text/plain": [
       "(pid=118969) Shuffle Reduce 4:   0%|                                                      | 0.00/1.00 [00:00<?…"
      ]
     },
     "metadata": {},
     "output_type": "display_data"
    },
    {
     "data": {
      "application/vnd.jupyter.widget-view+json": {
       "model_id": "e8e4c5f773ef469c8aa5f057c9befa74",
       "version_major": 2,
       "version_minor": 0
      },
      "text/plain": [
       "(pid=118969) Running 0: 0.00 row [00:00, ? row/s]"
      ]
     },
     "metadata": {},
     "output_type": "display_data"
    },
    {
     "name": "stderr",
     "output_type": "stream",
     "text": [
      "\u001b[36m(base_hard_ray_queries pid=118969)\u001b[0m Starting execution of Dataset. Full logs are in /tmp/ray/session_2024-11-18_20-08-53_320657_118638/logs/ray-data\n",
      "\u001b[36m(base_hard_ray_queries pid=118969)\u001b[0m Execution plan of Dataset: InputDataBuffer[Input] -> TaskPoolMapOperator[FlatMap(<lambda>)]\n"
     ]
    },
    {
     "data": {
      "application/vnd.jupyter.widget-view+json": {
       "model_id": "f9905fe8ea8b46f78de24ebe997fe5e1",
       "version_major": 2,
       "version_minor": 0
      },
      "text/plain": [
       "(pid=118969) Running 0: 0.00 row [00:00, ? row/s]"
      ]
     },
     "metadata": {},
     "output_type": "display_data"
    },
    {
     "data": {
      "application/vnd.jupyter.widget-view+json": {
       "model_id": "e7e349c075bf46eca372c9c2cae2f90f",
       "version_major": 2,
       "version_minor": 0
      },
      "text/plain": [
       "(pid=118969) Sort Sample 2:   0%|                                                         | 0.00/1.00 [00:00<?…"
      ]
     },
     "metadata": {},
     "output_type": "display_data"
    },
    {
     "data": {
      "application/vnd.jupyter.widget-view+json": {
       "model_id": "0bc34020c82a4dfc98abe6a9f0c0ec36",
       "version_major": 2,
       "version_minor": 0
      },
      "text/plain": [
       "(pid=118969) Shuffle Map 3:   0%|                                                         | 0.00/1.00 [00:00<?…"
      ]
     },
     "metadata": {},
     "output_type": "display_data"
    },
    {
     "data": {
      "application/vnd.jupyter.widget-view+json": {
       "model_id": "5e5f316895ec41039d4afdf4d929773c",
       "version_major": 2,
       "version_minor": 0
      },
      "text/plain": [
       "(pid=118969) Shuffle Reduce 4:   0%|                                                      | 0.00/1.00 [00:00<?…"
      ]
     },
     "metadata": {},
     "output_type": "display_data"
    },
    {
     "name": "stderr",
     "output_type": "stream",
     "text": [
      "\u001b[36m(base_hard_ray_queries pid=118969)\u001b[0m Starting execution of Dataset. Full logs are in /tmp/ray/session_2024-11-18_20-08-53_320657_118638/logs/ray-data\n",
      "\u001b[36m(base_hard_ray_queries pid=118969)\u001b[0m Execution plan of Dataset: InputDataBuffer[Input] -> AllToAllOperator[Aggregate]\n"
     ]
    },
    {
     "name": "stdout",
     "output_type": "stream",
     "text": [
      "\u001b[36m(base_hard_ray_queries pid=118969)\u001b[0m hard,Q3,3.8548502922058105,13600063\n"
     ]
    },
    {
     "data": {
      "application/vnd.jupyter.widget-view+json": {
       "model_id": "96717073f9c24df5903dd02215004ca0",
       "version_major": 2,
       "version_minor": 0
      },
      "text/plain": [
       "(pid=118969) Running 0: 0.00 row [00:00, ? row/s]"
      ]
     },
     "metadata": {},
     "output_type": "display_data"
    },
    {
     "data": {
      "application/vnd.jupyter.widget-view+json": {
       "model_id": "3807efae054c47f5911cc49400af3872",
       "version_major": 2,
       "version_minor": 0
      },
      "text/plain": [
       "(pid=118969) Sort Sample 2:   0%|                                                         | 0.00/1.00 [00:00<?…"
      ]
     },
     "metadata": {},
     "output_type": "display_data"
    },
    {
     "data": {
      "application/vnd.jupyter.widget-view+json": {
       "model_id": "075d9be249084a1e9f22a2a7085dad2b",
       "version_major": 2,
       "version_minor": 0
      },
      "text/plain": [
       "(pid=118969) Shuffle Map 3:   0%|                                                         | 0.00/1.00 [00:00<?…"
      ]
     },
     "metadata": {},
     "output_type": "display_data"
    },
    {
     "data": {
      "application/vnd.jupyter.widget-view+json": {
       "model_id": "1bedd2a3670049298ffa56bce71fc899",
       "version_major": 2,
       "version_minor": 0
      },
      "text/plain": [
       "(pid=118969) Shuffle Reduce 4:   0%|                                                      | 0.00/1.00 [00:00<?…"
      ]
     },
     "metadata": {},
     "output_type": "display_data"
    },
    {
     "name": "stderr",
     "output_type": "stream",
     "text": [
      "\u001b[36m(base_hard_ray_queries pid=118969)\u001b[0m Starting execution of Dataset. Full logs are in /tmp/ray/session_2024-11-18_20-08-53_320657_118638/logs/ray-data\n",
      "\u001b[36m(base_hard_ray_queries pid=118969)\u001b[0m Execution plan of Dataset: InputDataBuffer[Input] -> TaskPoolMapOperator[ReadCSV] -> AllToAllOperator[Aggregate]\n"
     ]
    },
    {
     "data": {
      "application/vnd.jupyter.widget-view+json": {
       "model_id": "36d1129d35db4f01807f5af91f0fa2d8",
       "version_major": 2,
       "version_minor": 0
      },
      "text/plain": [
       "(pid=118969) Running 0: 0.00 row [00:00, ? row/s]"
      ]
     },
     "metadata": {},
     "output_type": "display_data"
    },
    {
     "name": "stderr",
     "output_type": "stream",
     "text": [
      "\u001b[36m(base_hard_ray_queries pid=118969)\u001b[0m Starting execution of Dataset. Full logs are in /tmp/ray/session_2024-11-18_20-08-53_320657_118638/logs/ray-data\n",
      "\u001b[36m(base_hard_ray_queries pid=118969)\u001b[0m Execution plan of Dataset: InputDataBuffer[Input] -> TaskPoolMapOperator[FlatMap(<lambda>)]\n"
     ]
    },
    {
     "data": {
      "application/vnd.jupyter.widget-view+json": {
       "model_id": "1cafd5f4da3e4e5fa1f1512954ce889d",
       "version_major": 2,
       "version_minor": 0
      },
      "text/plain": [
       "(pid=118969) Running 0: 0.00 row [00:00, ? row/s]"
      ]
     },
     "metadata": {},
     "output_type": "display_data"
    },
    {
     "data": {
      "application/vnd.jupyter.widget-view+json": {
       "model_id": "9144267f47eb466ab8c5be57a15cff02",
       "version_major": 2,
       "version_minor": 0
      },
      "text/plain": [
       "(pid=118969) Sort Sample 2:   0%|                                                         | 0.00/1.00 [00:00<?…"
      ]
     },
     "metadata": {},
     "output_type": "display_data"
    },
    {
     "data": {
      "application/vnd.jupyter.widget-view+json": {
       "model_id": "073421c0e73d445cb7956d67466e4c83",
       "version_major": 2,
       "version_minor": 0
      },
      "text/plain": [
       "(pid=118969) Shuffle Map 3:   0%|                                                         | 0.00/1.00 [00:00<?…"
      ]
     },
     "metadata": {},
     "output_type": "display_data"
    },
    {
     "data": {
      "application/vnd.jupyter.widget-view+json": {
       "model_id": "1378f3e3811942fb88889d72c05c60d9",
       "version_major": 2,
       "version_minor": 0
      },
      "text/plain": [
       "(pid=118969) Shuffle Reduce 4:   0%|                                                      | 0.00/1.00 [00:00<?…"
      ]
     },
     "metadata": {},
     "output_type": "display_data"
    },
    {
     "name": "stderr",
     "output_type": "stream",
     "text": [
      "\u001b[36m(base_hard_ray_queries pid=118969)\u001b[0m Starting execution of Dataset. Full logs are in /tmp/ray/session_2024-11-18_20-08-53_320657_118638/logs/ray-data\n",
      "\u001b[36m(base_hard_ray_queries pid=118969)\u001b[0m Execution plan of Dataset: InputDataBuffer[Input] -> AllToAllOperator[Aggregate]\n"
     ]
    },
    {
     "name": "stdout",
     "output_type": "stream",
     "text": [
      "\u001b[36m(base_hard_ray_queries pid=118969)\u001b[0m hard,Q4,4.077474355697632,13600063\n"
     ]
    },
    {
     "data": {
      "application/vnd.jupyter.widget-view+json": {
       "model_id": "1a0f4d740ae149c0a0b02b5f4c6a344b",
       "version_major": 2,
       "version_minor": 0
      },
      "text/plain": [
       "(pid=118969) Running 0: 0.00 row [00:00, ? row/s]"
      ]
     },
     "metadata": {},
     "output_type": "display_data"
    },
    {
     "data": {
      "application/vnd.jupyter.widget-view+json": {
       "model_id": "268da5eed78249b5bd1e2f7c6134bf64",
       "version_major": 2,
       "version_minor": 0
      },
      "text/plain": [
       "(pid=118969) Sort Sample 2:   0%|                                                         | 0.00/1.00 [00:00<?…"
      ]
     },
     "metadata": {},
     "output_type": "display_data"
    },
    {
     "data": {
      "application/vnd.jupyter.widget-view+json": {
       "model_id": "878ff2ea04024ba4adf6093c3c7fcf48",
       "version_major": 2,
       "version_minor": 0
      },
      "text/plain": [
       "(pid=118969) Shuffle Map 3:   0%|                                                         | 0.00/1.00 [00:00<?…"
      ]
     },
     "metadata": {},
     "output_type": "display_data"
    },
    {
     "data": {
      "application/vnd.jupyter.widget-view+json": {
       "model_id": "0c96acabbe884b6f8654c9a831931925",
       "version_major": 2,
       "version_minor": 0
      },
      "text/plain": [
       "(pid=118969) Shuffle Reduce 4:   0%|                                                      | 0.00/1.00 [00:00<?…"
      ]
     },
     "metadata": {},
     "output_type": "display_data"
    },
    {
     "name": "stderr",
     "output_type": "stream",
     "text": [
      "\u001b[36m(base_hard_ray_queries pid=118969)\u001b[0m Starting execution of Dataset. Full logs are in /tmp/ray/session_2024-11-18_20-08-53_320657_118638/logs/ray-data\n",
      "\u001b[36m(base_hard_ray_queries pid=118969)\u001b[0m Execution plan of Dataset: InputDataBuffer[Input] -> TaskPoolMapOperator[ReadCSV] -> AllToAllOperator[Aggregate]\n"
     ]
    },
    {
     "data": {
      "application/vnd.jupyter.widget-view+json": {
       "model_id": "bed94b06bbc04fdd912952c9e4e2fc33",
       "version_major": 2,
       "version_minor": 0
      },
      "text/plain": [
       "(pid=118969) Running 0: 0.00 row [00:00, ? row/s]"
      ]
     },
     "metadata": {},
     "output_type": "display_data"
    },
    {
     "name": "stderr",
     "output_type": "stream",
     "text": [
      "\u001b[36m(base_hard_ray_queries pid=118969)\u001b[0m Starting execution of Dataset. Full logs are in /tmp/ray/session_2024-11-18_20-08-53_320657_118638/logs/ray-data\n",
      "\u001b[36m(base_hard_ray_queries pid=118969)\u001b[0m Execution plan of Dataset: InputDataBuffer[Input] -> TaskPoolMapOperator[FlatMap(<lambda>)]\n"
     ]
    },
    {
     "data": {
      "application/vnd.jupyter.widget-view+json": {
       "model_id": "8734cec10a264738bf0f27168237d6c4",
       "version_major": 2,
       "version_minor": 0
      },
      "text/plain": [
       "(pid=118969) Running 0: 0.00 row [00:00, ? row/s]"
      ]
     },
     "metadata": {},
     "output_type": "display_data"
    },
    {
     "data": {
      "application/vnd.jupyter.widget-view+json": {
       "model_id": "8ad016ab2367466790ece958a8f0f98e",
       "version_major": 2,
       "version_minor": 0
      },
      "text/plain": [
       "(pid=118969) Sort Sample 2:   0%|                                                         | 0.00/1.00 [00:00<?…"
      ]
     },
     "metadata": {},
     "output_type": "display_data"
    },
    {
     "data": {
      "application/vnd.jupyter.widget-view+json": {
       "model_id": "00bb1cdcc3a74b888f80b1bdea9be8bb",
       "version_major": 2,
       "version_minor": 0
      },
      "text/plain": [
       "(pid=118969) Shuffle Map 3:   0%|                                                         | 0.00/1.00 [00:00<?…"
      ]
     },
     "metadata": {},
     "output_type": "display_data"
    },
    {
     "data": {
      "application/vnd.jupyter.widget-view+json": {
       "model_id": "5a70b8216ac24ecd93977aa92f100755",
       "version_major": 2,
       "version_minor": 0
      },
      "text/plain": [
       "(pid=118969) Shuffle Reduce 4:   0%|                                                      | 0.00/1.00 [00:00<?…"
      ]
     },
     "metadata": {},
     "output_type": "display_data"
    },
    {
     "name": "stderr",
     "output_type": "stream",
     "text": [
      "\u001b[36m(base_hard_ray_queries pid=118969)\u001b[0m Starting execution of Dataset. Full logs are in /tmp/ray/session_2024-11-18_20-08-53_320657_118638/logs/ray-data\n",
      "\u001b[36m(base_hard_ray_queries pid=118969)\u001b[0m Execution plan of Dataset: InputDataBuffer[Input] -> AllToAllOperator[Aggregate]\n",
      "\u001b[36m(raylet)\u001b[0m Spilled 8516 MiB, 452 objects, write throughput 854 MiB/s.\n"
     ]
    },
    {
     "name": "stdout",
     "output_type": "stream",
     "text": [
      "\u001b[36m(base_hard_ray_queries pid=118969)\u001b[0m hard,Q5,6.6014084815979,13600055\n"
     ]
    },
    {
     "data": {
      "application/vnd.jupyter.widget-view+json": {
       "model_id": "8a729768207b4045ab54eb91424ab73e",
       "version_major": 2,
       "version_minor": 0
      },
      "text/plain": [
       "(pid=118969) Running 0: 0.00 row [00:00, ? row/s]"
      ]
     },
     "metadata": {},
     "output_type": "display_data"
    },
    {
     "data": {
      "application/vnd.jupyter.widget-view+json": {
       "model_id": "77ed452ca6ca4570bc59f52528fea8ca",
       "version_major": 2,
       "version_minor": 0
      },
      "text/plain": [
       "(pid=118969) Sort Sample 2:   0%|                                                         | 0.00/1.00 [00:00<?…"
      ]
     },
     "metadata": {},
     "output_type": "display_data"
    },
    {
     "data": {
      "application/vnd.jupyter.widget-view+json": {
       "model_id": "27608f3718a04cd09c19e5cc1f754125",
       "version_major": 2,
       "version_minor": 0
      },
      "text/plain": [
       "(pid=118969) Shuffle Map 3:   0%|                                                         | 0.00/1.00 [00:00<?…"
      ]
     },
     "metadata": {},
     "output_type": "display_data"
    },
    {
     "data": {
      "application/vnd.jupyter.widget-view+json": {
       "model_id": "3bbbe13ff9b24d44bc19cbc3085fb93c",
       "version_major": 2,
       "version_minor": 0
      },
      "text/plain": [
       "(pid=118969) Shuffle Reduce 4:   0%|                                                      | 0.00/1.00 [00:00<?…"
      ]
     },
     "metadata": {},
     "output_type": "display_data"
    },
    {
     "name": "stderr",
     "output_type": "stream",
     "text": [
      "\u001b[36m(base_hard_ray_queries pid=118969)\u001b[0m Starting execution of Dataset. Full logs are in /tmp/ray/session_2024-11-18_20-08-53_320657_118638/logs/ray-data\n",
      "\u001b[36m(base_hard_ray_queries pid=118969)\u001b[0m Execution plan of Dataset: InputDataBuffer[Input] -> TaskPoolMapOperator[ReadCSV] -> AllToAllOperator[Aggregate]\n"
     ]
    },
    {
     "data": {
      "application/vnd.jupyter.widget-view+json": {
       "model_id": "79ad25a8e44c4c72b8b3b8485bbf3a15",
       "version_major": 2,
       "version_minor": 0
      },
      "text/plain": [
       "(pid=118969) Running 0: 0.00 row [00:00, ? row/s]"
      ]
     },
     "metadata": {},
     "output_type": "display_data"
    },
    {
     "name": "stderr",
     "output_type": "stream",
     "text": [
      "\u001b[36m(base_hard_ray_queries pid=118969)\u001b[0m Starting execution of Dataset. Full logs are in /tmp/ray/session_2024-11-18_20-08-53_320657_118638/logs/ray-data\n",
      "\u001b[36m(base_hard_ray_queries pid=118969)\u001b[0m Execution plan of Dataset: InputDataBuffer[Input] -> TaskPoolMapOperator[FlatMap(<lambda>)]\n"
     ]
    },
    {
     "data": {
      "application/vnd.jupyter.widget-view+json": {
       "model_id": "a2b87ccaa7214f4b80a60551071a40c9",
       "version_major": 2,
       "version_minor": 0
      },
      "text/plain": [
       "(pid=118969) Running 0: 0.00 row [00:00, ? row/s]"
      ]
     },
     "metadata": {},
     "output_type": "display_data"
    },
    {
     "data": {
      "application/vnd.jupyter.widget-view+json": {
       "model_id": "7191fdf8fa5a49788dd6549127a52273",
       "version_major": 2,
       "version_minor": 0
      },
      "text/plain": [
       "(pid=118969) Sort Sample 2:   0%|                                                         | 0.00/1.00 [00:00<?…"
      ]
     },
     "metadata": {},
     "output_type": "display_data"
    },
    {
     "data": {
      "application/vnd.jupyter.widget-view+json": {
       "model_id": "67ef299da5f84547bdd15c8dff87c0c1",
       "version_major": 2,
       "version_minor": 0
      },
      "text/plain": [
       "(pid=118969) Shuffle Map 3:   0%|                                                         | 0.00/1.00 [00:00<?…"
      ]
     },
     "metadata": {},
     "output_type": "display_data"
    },
    {
     "data": {
      "application/vnd.jupyter.widget-view+json": {
       "model_id": "bbc66aca8bb04eeea1ac1917ac991a3e",
       "version_major": 2,
       "version_minor": 0
      },
      "text/plain": [
       "(pid=118969) Shuffle Reduce 4:   0%|                                                      | 0.00/1.00 [00:00<?…"
      ]
     },
     "metadata": {},
     "output_type": "display_data"
    },
    {
     "name": "stderr",
     "output_type": "stream",
     "text": [
      "\u001b[36m(base_hard_ray_queries pid=118969)\u001b[0m Starting execution of Dataset. Full logs are in /tmp/ray/session_2024-11-18_20-08-53_320657_118638/logs/ray-data\n",
      "\u001b[36m(base_hard_ray_queries pid=118969)\u001b[0m Execution plan of Dataset: InputDataBuffer[Input] -> AllToAllOperator[Aggregate]\n"
     ]
    },
    {
     "name": "stdout",
     "output_type": "stream",
     "text": [
      "\u001b[36m(base_hard_ray_queries pid=118969)\u001b[0m hard,Q6,6.532519340515137,13600055\n"
     ]
    },
    {
     "data": {
      "application/vnd.jupyter.widget-view+json": {
       "model_id": "005b18c2cc894d9e8be5411bf7ffe6df",
       "version_major": 2,
       "version_minor": 0
      },
      "text/plain": [
       "(pid=118969) Running 0: 0.00 row [00:00, ? row/s]"
      ]
     },
     "metadata": {},
     "output_type": "display_data"
    },
    {
     "data": {
      "application/vnd.jupyter.widget-view+json": {
       "model_id": "b1c115e06e6a4308bc43659ae73a8c98",
       "version_major": 2,
       "version_minor": 0
      },
      "text/plain": [
       "(pid=118969) Sort Sample 2:   0%|                                                         | 0.00/1.00 [00:00<?…"
      ]
     },
     "metadata": {},
     "output_type": "display_data"
    },
    {
     "data": {
      "application/vnd.jupyter.widget-view+json": {
       "model_id": "2c5bb092ed4745019a772414d8eaba8e",
       "version_major": 2,
       "version_minor": 0
      },
      "text/plain": [
       "(pid=118969) Shuffle Map 3:   0%|                                                         | 0.00/1.00 [00:00<?…"
      ]
     },
     "metadata": {},
     "output_type": "display_data"
    },
    {
     "data": {
      "application/vnd.jupyter.widget-view+json": {
       "model_id": "d11324399061413ab499641a454a0c05",
       "version_major": 2,
       "version_minor": 0
      },
      "text/plain": [
       "(pid=118969) Shuffle Reduce 4:   0%|                                                      | 0.00/1.00 [00:00<?…"
      ]
     },
     "metadata": {},
     "output_type": "display_data"
    },
    {
     "name": "stderr",
     "output_type": "stream",
     "text": [
      "\u001b[36m(base_hard_ray_queries pid=118969)\u001b[0m Starting execution of Dataset. Full logs are in /tmp/ray/session_2024-11-18_20-08-53_320657_118638/logs/ray-data\n",
      "\u001b[36m(base_hard_ray_queries pid=118969)\u001b[0m Execution plan of Dataset: InputDataBuffer[Input] -> TaskPoolMapOperator[ReadCSV] -> AllToAllOperator[Aggregate]\n"
     ]
    },
    {
     "data": {
      "application/vnd.jupyter.widget-view+json": {
       "model_id": "90fe4d69f11041659fc9f3c8e18c5e56",
       "version_major": 2,
       "version_minor": 0
      },
      "text/plain": [
       "(pid=118969) Running 0: 0.00 row [00:00, ? row/s]"
      ]
     },
     "metadata": {},
     "output_type": "display_data"
    },
    {
     "name": "stderr",
     "output_type": "stream",
     "text": [
      "\u001b[36m(base_hard_ray_queries pid=118969)\u001b[0m Starting execution of Dataset. Full logs are in /tmp/ray/session_2024-11-18_20-08-53_320657_118638/logs/ray-data\n",
      "\u001b[36m(base_hard_ray_queries pid=118969)\u001b[0m Execution plan of Dataset: InputDataBuffer[Input] -> TaskPoolMapOperator[FlatMap(<lambda>)]\n",
      "\u001b[36m(raylet)\u001b[0m Spilled 16641 MiB, 597 objects, write throughput 983 MiB/s.\n",
      "\u001b[36m(raylet)\u001b[0m Spilled 33331 MiB, 705 objects, write throughput 1066 MiB/s.\n",
      "\u001b[36m(raylet)\u001b[0m Spilled 65886 MiB, 915 objects, write throughput 837 MiB/s.\n"
     ]
    }
   ],
   "source": [
    "import dask\n",
    "import dask.dataframe as dd\n",
    "import itertools as it\n",
    "import numpy as np\n",
    "import pandas as pd\n",
    "from time import time\n",
    "import os\n",
    "import ray\n",
    "import ray.data as rd\n",
    "from ray.data.aggregate import AggregateFn\n",
    "import gc\n",
    "\n",
    "# Initialize Ray\n",
    "ray.init(_temp_dir=\"/tmp/ray\", object_store_memory=10**9)\n",
    "\n",
    "indices = ['filename', 'application', 'io_zone', 'redundancy_type']\n",
    "combinations = list(it.combinations(indices, r=2))[:5]\n",
    "\n",
    "# Function to log results to a file\n",
    "def log_results_to_file(result_file, time, memory):\n",
    "    with open(result_file, 'a') as f:\n",
    "        f.write(f\"Times: {time}, Memory: {memory}\\n\")\n",
    "    \n",
    "    # Check if the file was created\n",
    "    if os.path.exists(result_file):\n",
    "        print(f\"File {result_file} created/updated successfully!\")\n",
    "    else:\n",
    "        print(f\"Error: {result_file} was not created.\")\n",
    "\n",
    "@ray.remote\n",
    "def base_hard_ray_queries(log_dir, result_file):\n",
    "    print(f\",base_hard_ray_queries\")\n",
    "    \n",
    "    # Load dataset using Ray\n",
    "    df = ray.data.read_csv(log_dir)\n",
    "    query_index = 0\n",
    "\n",
    "    for ix, iy in combinations:\n",
    "        for col in ['request_io_size_bytes', 'disk_time']:\n",
    "            query_index += 1\n",
    "            t1 = time()\n",
    "\n",
    "            try:\n",
    "                grouped = df.groupby([ix]).aggregate(\n",
    "                    AggregateFn(\n",
    "                        init=lambda _: [],\n",
    "                        accumulate_row=lambda acc, row: acc + [row[iy]],\n",
    "                        merge=lambda acc1, acc2: acc1 + acc2,\n",
    "                        name=f\"{iy}_list\"\n",
    "                    ),\n",
    "                    AggregateFn(\n",
    "                        init=lambda _: 0,\n",
    "                        accumulate_row=lambda acc, row: acc + row[col],\n",
    "                        merge=lambda acc1, acc2: acc1 + acc2,\n",
    "                        name=f\"{col}_sum\"\n",
    "                    )\n",
    "                ).materialize()\n",
    "\n",
    "                exploded = grouped.flat_map(\n",
    "                    lambda row: [\n",
    "                        {**row, iy: item}\n",
    "                        for item in row[f\"{iy}_list\"]\n",
    "                    ]\n",
    "                ).materialize()\n",
    "\n",
    "                result = exploded.groupby([iy]).aggregate(\n",
    "                    AggregateFn(\n",
    "                        init=lambda _: [],\n",
    "                        accumulate_row=lambda acc, row: acc + [row[ix]],\n",
    "                        merge=lambda acc1, acc2: acc1 + acc2,\n",
    "                        name=f\"{ix}_list\"\n",
    "                    ),\n",
    "                    AggregateFn(\n",
    "                        init=lambda _: 0,\n",
    "                        accumulate_row=lambda acc, row: acc + row[f\"{col}_sum\"],\n",
    "                        merge=lambda acc1, acc2: acc1 + acc2,\n",
    "                        name=f\"{col}_sum\"\n",
    "                    )\n",
    "                ).materialize()\n",
    "\n",
    "                # Compute memory usage and elapsed time\n",
    "                time_elapsed = time() - t1\n",
    "                memory_usage = result.size_bytes()\n",
    "\n",
    "                # Log results\n",
    "                with open(result_file, \"a\") as f:\n",
    "                    f.write(f\"hard,Q{query_index},{time_elapsed},{memory_usage}\\n\")\n",
    "\n",
    "                print(f\"hard,Q{query_index},{time_elapsed},{memory_usage}\")\n",
    "\n",
    "            except Exception as e:\n",
    "                print(f\"Error in query {query_index}: {e}\")\n",
    "                continue\n",
    "\n",
    "@ray.remote\n",
    "def iomax_hard_ray_queries(log_dir, result_file):\n",
    "    print(f\",iomax_hard_ray_queries\")\n",
    "    \n",
    "    # Load dataset using Ray\n",
    "    df = ray.data.read_csv(log_dir)\n",
    "    query_index = 0\n",
    "    grouped_df = None \n",
    "\n",
    "    for ix, iy in combinations:\n",
    "        for col in ['request_io_size_bytes', 'disk_time']:\n",
    "            query_index += 1\n",
    "            t1 = time()\n",
    "            memory_usage = 0\n",
    "\n",
    "            try:\n",
    "                if query_index == 1:\n",
    "                    x = df.groupby(indices).aggregate(\n",
    "                        AggregateFn(\n",
    "                            init=lambda _: 0,\n",
    "                            accumulate_row=lambda acc, row: acc + row['request_io_size_bytes'],\n",
    "                            merge=lambda acc1, acc2: acc1 + acc2,\n",
    "                            name=\"request_io_size_bytes\"\n",
    "                        ),\n",
    "                        AggregateFn(\n",
    "                            init=lambda _: 0,\n",
    "                            accumulate_row=lambda acc, row: acc + row['disk_time'],\n",
    "                            merge=lambda acc1, acc2: acc1 + acc2,\n",
    "                            name=\"disk_time\"\n",
    "                        )\n",
    "                    ).materialize()\n",
    "\n",
    "                    # Compute memory usage (approximation)\n",
    "                    if isinstance(x, ray.data.Dataset):\n",
    "                        memory_usage = x.size_bytes()\n",
    "                    else:\n",
    "                        memory_usage = x.memory_usage(deep=True).sum()\n",
    "\n",
    "                grouped = x.groupby([ix]).aggregate(\n",
    "                    AggregateFn(\n",
    "                        init=lambda _: [],\n",
    "                        accumulate_row=lambda acc, row: acc + [row[iy]],\n",
    "                        merge=lambda acc1, acc2: acc1 + acc2,\n",
    "                        name=f\"{iy}_list\"\n",
    "                    ),\n",
    "                    AggregateFn(\n",
    "                        init=lambda _: 0,\n",
    "                        accumulate_row=lambda acc, row: acc + row[col],\n",
    "                        merge=lambda acc1, acc2: acc1 + acc2,\n",
    "                        name=f\"{col}_sum\"\n",
    "                    )\n",
    "                ).materialize()\n",
    "\n",
    "                exploded = grouped.flat_map(\n",
    "                    lambda row: [\n",
    "                        {**row, iy: item}\n",
    "                        for item in row[f\"{iy}_list\"]\n",
    "                    ]\n",
    "                ).materialize()\n",
    "\n",
    "                result = exploded.groupby([iy]).aggregate(\n",
    "                    AggregateFn(\n",
    "                        init=lambda _: [],\n",
    "                        accumulate_row=lambda acc, row: acc + [row[ix]],\n",
    "                        merge=lambda acc1, acc2: acc1 + acc2,\n",
    "                        name=f\"{ix}_list\"\n",
    "                    ),\n",
    "                    AggregateFn(\n",
    "                        init=lambda _: 0,\n",
    "                        accumulate_row=lambda acc, row: acc + row[f\"{col}_sum\"],\n",
    "                        merge=lambda acc1, acc2: acc1 + acc2,\n",
    "                        name=f\"{col}_sum\"\n",
    "                    )\n",
    "                ).materialize()\n",
    "\n",
    "                # Compute elapsed time\n",
    "                time_elapsed = time() - t1\n",
    "\n",
    "                # Log results\n",
    "                log_results_to_file(result_file, time_elapsed, memory_usage)\n",
    "                print(f\"hard,Q{query_index},{time_elapsed},{memory_usage}\")\n",
    "\n",
    "            except Exception as e:\n",
    "                import traceback\n",
    "                print(f\"Error in query {query_index}: {e}\")\n",
    "                traceback.print_exc()\n",
    "                continue\n",
    "    del df, result\n",
    "    gc.collect()\n",
    "\n",
    "ray.get(base_hard_ray_queries.remote(\"../datasets_thesios_io_traces/dataset-200k.csv\", \"results_ray_hard_queries_csv/results_ray_plain_hard_200k.txt\"))\n",
    "\n",
    "# Shut down Ray after queries complete\n",
    "ray.shutdown()"
   ]
  },
  {
   "cell_type": "code",
   "execution_count": 2,
   "id": "78b2c296-a939-4da8-9001-77d17e40dedf",
   "metadata": {},
   "outputs": [
    {
     "data": {
      "text/plain": [
       "0"
      ]
     },
     "execution_count": 2,
     "metadata": {},
     "output_type": "execute_result"
    }
   ],
   "source": [
    "import gc\n",
    "gc.collect()"
   ]
  },
  {
   "cell_type": "code",
   "execution_count": null,
   "id": "688ed23e-0854-43ac-9aee-34b6f881c656",
   "metadata": {},
   "outputs": [],
   "source": []
  }
 ],
 "metadata": {
  "kernelspec": {
   "display_name": "Python 3 (ipykernel)",
   "language": "python",
   "name": "python3"
  },
  "language_info": {
   "codemirror_mode": {
    "name": "ipython",
    "version": 3
   },
   "file_extension": ".py",
   "mimetype": "text/x-python",
   "name": "python",
   "nbconvert_exporter": "python",
   "pygments_lexer": "ipython3",
   "version": "3.11.10"
  }
 },
 "nbformat": 4,
 "nbformat_minor": 5
}
