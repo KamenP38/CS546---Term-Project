{
 "cells": [
  {
   "cell_type": "code",
   "execution_count": 1,
   "id": "200fb787-75e2-4081-b6a9-8982991fa05e",
   "metadata": {},
   "outputs": [
    {
     "name": "stderr",
     "output_type": "stream",
     "text": [
      "2024-11-18 19:54:42,442\tINFO worker.py:1816 -- Started a local Ray instance.\n"
     ]
    },
    {
     "name": "stdout",
     "output_type": "stream",
     "text": [
      "\u001b[36m(iomax_medium_ray_queries pid=106303)\u001b[0m ,iomax_medium_ray_queries\n"
     ]
    },
    {
     "name": "stderr",
     "output_type": "stream",
     "text": [
      "\u001b[36m(iomax_medium_ray_queries pid=106303)\u001b[0m Starting execution of Dataset. Full logs are in /tmp/ray/session_2024-11-18_19-54-40_768269_106003/logs/ray-data\n",
      "\u001b[36m(iomax_medium_ray_queries pid=106303)\u001b[0m Execution plan of Dataset: InputDataBuffer[Input] -> TaskPoolMapOperator[ReadCSV]\n"
     ]
    },
    {
     "data": {
      "application/vnd.jupyter.widget-view+json": {
       "model_id": "62c583b37ddd4040ac69ec6abc7b7e48",
       "version_major": 2,
       "version_minor": 0
      },
      "text/plain": [
       "(pid=106303) Running 0: 0.00 row [00:00, ? row/s]"
      ]
     },
     "metadata": {},
     "output_type": "display_data"
    },
    {
     "name": "stderr",
     "output_type": "stream",
     "text": [
      "\u001b[36m(iomax_medium_ray_queries pid=106303)\u001b[0m Starting execution of Dataset. Full logs are in /tmp/ray/session_2024-11-18_19-54-40_768269_106003/logs/ray-data\n",
      "\u001b[36m(iomax_medium_ray_queries pid=106303)\u001b[0m Execution plan of Dataset: InputDataBuffer[Input] -> TaskPoolMapOperator[ReadCSV] -> AllToAllOperator[Aggregate]\n"
     ]
    },
    {
     "data": {
      "application/vnd.jupyter.widget-view+json": {
       "model_id": "8f4c66d6e7c54ea49361361b881745bf",
       "version_major": 2,
       "version_minor": 0
      },
      "text/plain": [
       "(pid=106303) Running 0: 0.00 row [00:00, ? row/s]"
      ]
     },
     "metadata": {},
     "output_type": "display_data"
    },
    {
     "data": {
      "application/vnd.jupyter.widget-view+json": {
       "model_id": "29f6abb218e54f87a826639862fc4f9c",
       "version_major": 2,
       "version_minor": 0
      },
      "text/plain": [
       "(pid=106303) Sort Sample 2:   0%|                                                         | 0.00/1.00 [00:00<?…"
      ]
     },
     "metadata": {},
     "output_type": "display_data"
    },
    {
     "data": {
      "application/vnd.jupyter.widget-view+json": {
       "model_id": "76141455ce0a46eeaf9639faddc65df7",
       "version_major": 2,
       "version_minor": 0
      },
      "text/plain": [
       "(pid=106303) Shuffle Map 3:   0%|                                                         | 0.00/1.00 [00:00<?…"
      ]
     },
     "metadata": {},
     "output_type": "display_data"
    },
    {
     "data": {
      "application/vnd.jupyter.widget-view+json": {
       "model_id": "f2e4c6db1ea74ae5887f4617ec98f0de",
       "version_major": 2,
       "version_minor": 0
      },
      "text/plain": [
       "(pid=106303) Shuffle Reduce 4:   0%|                                                      | 0.00/1.00 [00:00<?…"
      ]
     },
     "metadata": {},
     "output_type": "display_data"
    },
    {
     "name": "stderr",
     "output_type": "stream",
     "text": [
      "\u001b[36m(raylet)\u001b[0m Spilled 3075 MiB, 122 objects, write throughput 904 MiB/s. Set RAY_verbose_spill_logs=0 to disable this message.\n",
      "\u001b[36m(raylet)\u001b[0m Spilled 6001 MiB, 239 objects, write throughput 847 MiB/s.\n",
      "\u001b[36m(iomax_medium_ray_queries pid=106303)\u001b[0m Starting execution of Dataset. Full logs are in /tmp/ray/session_2024-11-18_19-54-40_768269_106003/logs/ray-data\n",
      "\u001b[36m(iomax_medium_ray_queries pid=106303)\u001b[0m Execution plan of Dataset: InputDataBuffer[Input] -> AllToAllOperator[Aggregate] -> AllToAllOperator[Aggregate]\n"
     ]
    },
    {
     "data": {
      "application/vnd.jupyter.widget-view+json": {
       "model_id": "853867b801bf4204a5117d2381113db8",
       "version_major": 2,
       "version_minor": 0
      },
      "text/plain": [
       "(pid=106303) Running 0: 0.00 row [00:00, ? row/s]"
      ]
     },
     "metadata": {},
     "output_type": "display_data"
    },
    {
     "data": {
      "application/vnd.jupyter.widget-view+json": {
       "model_id": "c7efa6d58c874af3a731f46b03f1b6d8",
       "version_major": 2,
       "version_minor": 0
      },
      "text/plain": [
       "(pid=106303) Sort Sample 2:   0%|                                                         | 0.00/1.00 [00:00<?…"
      ]
     },
     "metadata": {},
     "output_type": "display_data"
    },
    {
     "data": {
      "application/vnd.jupyter.widget-view+json": {
       "model_id": "596c6311bb4d4e38a1e523def7e82013",
       "version_major": 2,
       "version_minor": 0
      },
      "text/plain": [
       "(pid=106303) Shuffle Map 3:   0%|                                                         | 0.00/1.00 [00:00<?…"
      ]
     },
     "metadata": {},
     "output_type": "display_data"
    },
    {
     "data": {
      "application/vnd.jupyter.widget-view+json": {
       "model_id": "cee56d4ff81742fda440faaa709fd081",
       "version_major": 2,
       "version_minor": 0
      },
      "text/plain": [
       "(pid=106303) Shuffle Reduce 4:   0%|                                                      | 0.00/1.00 [00:00<?…"
      ]
     },
     "metadata": {},
     "output_type": "display_data"
    },
    {
     "data": {
      "application/vnd.jupyter.widget-view+json": {
       "model_id": "75e3455e3eb54e2d88653edd8e451253",
       "version_major": 2,
       "version_minor": 0
      },
      "text/plain": [
       "(pid=106303) Sort Sample 2:   0%|                                                         | 0.00/1.00 [00:00<?…"
      ]
     },
     "metadata": {},
     "output_type": "display_data"
    },
    {
     "data": {
      "application/vnd.jupyter.widget-view+json": {
       "model_id": "8e650c5fe0274514af16edf70d2ec2b3",
       "version_major": 2,
       "version_minor": 0
      },
      "text/plain": [
       "(pid=106303) Shuffle Map 3:   0%|                                                         | 0.00/1.00 [00:00<?…"
      ]
     },
     "metadata": {},
     "output_type": "display_data"
    },
    {
     "data": {
      "application/vnd.jupyter.widget-view+json": {
       "model_id": "367ccab88432490480d7887899a6e268",
       "version_major": 2,
       "version_minor": 0
      },
      "text/plain": [
       "(pid=106303) Shuffle Reduce 4:   0%|                                                      | 0.00/1.00 [00:00<?…"
      ]
     },
     "metadata": {},
     "output_type": "display_data"
    },
    {
     "name": "stdout",
     "output_type": "stream",
     "text": [
      "\u001b[36m(iomax_medium_ray_queries pid=106303)\u001b[0m File results_ray_medium_queries_csv/results_ray_base_medium_25m.txt created/updated successfully!\n",
      "\u001b[36m(iomax_medium_ray_queries pid=106303)\u001b[0m medium,Q1,319.1110146045685,132205968\n"
     ]
    },
    {
     "name": "stderr",
     "output_type": "stream",
     "text": [
      "\u001b[36m(iomax_medium_ray_queries pid=106303)\u001b[0m Starting execution of Dataset. Full logs are in /tmp/ray/session_2024-11-18_19-54-40_768269_106003/logs/ray-data\n",
      "\u001b[36m(iomax_medium_ray_queries pid=106303)\u001b[0m Execution plan of Dataset: InputDataBuffer[Input] -> AllToAllOperator[Aggregate] -> AllToAllOperator[Aggregate]\n"
     ]
    },
    {
     "data": {
      "application/vnd.jupyter.widget-view+json": {
       "model_id": "3a354124b96943fbb95d746c39c8a07c",
       "version_major": 2,
       "version_minor": 0
      },
      "text/plain": [
       "(pid=106303) Running 0: 0.00 row [00:00, ? row/s]"
      ]
     },
     "metadata": {},
     "output_type": "display_data"
    },
    {
     "data": {
      "application/vnd.jupyter.widget-view+json": {
       "model_id": "64118800ccb845a68d46e79fce72d71a",
       "version_major": 2,
       "version_minor": 0
      },
      "text/plain": [
       "(pid=106303) Sort Sample 2:   0%|                                                         | 0.00/1.00 [00:00<?…"
      ]
     },
     "metadata": {},
     "output_type": "display_data"
    },
    {
     "data": {
      "application/vnd.jupyter.widget-view+json": {
       "model_id": "bd255d5439d24416a0300a54ae7eed66",
       "version_major": 2,
       "version_minor": 0
      },
      "text/plain": [
       "(pid=106303) Shuffle Map 3:   0%|                                                         | 0.00/1.00 [00:00<?…"
      ]
     },
     "metadata": {},
     "output_type": "display_data"
    },
    {
     "data": {
      "application/vnd.jupyter.widget-view+json": {
       "model_id": "7fa8d9eb66b74f0fb5019105b34fa142",
       "version_major": 2,
       "version_minor": 0
      },
      "text/plain": [
       "(pid=106303) Shuffle Reduce 4:   0%|                                                      | 0.00/1.00 [00:00<?…"
      ]
     },
     "metadata": {},
     "output_type": "display_data"
    },
    {
     "data": {
      "application/vnd.jupyter.widget-view+json": {
       "model_id": "17a2337a00354322a9b09306aca90fea",
       "version_major": 2,
       "version_minor": 0
      },
      "text/plain": [
       "(pid=106303) Sort Sample 2:   0%|                                                         | 0.00/1.00 [00:00<?…"
      ]
     },
     "metadata": {},
     "output_type": "display_data"
    },
    {
     "data": {
      "application/vnd.jupyter.widget-view+json": {
       "model_id": "336b512d8ff144ab8bcf2ae32b815c51",
       "version_major": 2,
       "version_minor": 0
      },
      "text/plain": [
       "(pid=106303) Shuffle Map 3:   0%|                                                         | 0.00/1.00 [00:00<?…"
      ]
     },
     "metadata": {},
     "output_type": "display_data"
    },
    {
     "data": {
      "application/vnd.jupyter.widget-view+json": {
       "model_id": "d658c48c8bea4d5dae92fc22f7db8f47",
       "version_major": 2,
       "version_minor": 0
      },
      "text/plain": [
       "(pid=106303) Shuffle Reduce 4:   0%|                                                      | 0.00/1.00 [00:00<?…"
      ]
     },
     "metadata": {},
     "output_type": "display_data"
    },
    {
     "name": "stdout",
     "output_type": "stream",
     "text": [
      "\u001b[36m(iomax_medium_ray_queries pid=106303)\u001b[0m File results_ray_medium_queries_csv/results_ray_base_medium_25m.txt created/updated successfully!\n",
      "\u001b[36m(iomax_medium_ray_queries pid=106303)\u001b[0m medium,Q2,20.84027123451233,0\n"
     ]
    },
    {
     "name": "stderr",
     "output_type": "stream",
     "text": [
      "\u001b[36m(iomax_medium_ray_queries pid=106303)\u001b[0m Starting execution of Dataset. Full logs are in /tmp/ray/session_2024-11-18_19-54-40_768269_106003/logs/ray-data\n",
      "\u001b[36m(iomax_medium_ray_queries pid=106303)\u001b[0m Execution plan of Dataset: InputDataBuffer[Input] -> AllToAllOperator[Aggregate] -> AllToAllOperator[Aggregate]\n"
     ]
    },
    {
     "data": {
      "application/vnd.jupyter.widget-view+json": {
       "model_id": "2cd90ef7464c4eef8a19066c3a8371c8",
       "version_major": 2,
       "version_minor": 0
      },
      "text/plain": [
       "(pid=106303) Running 0: 0.00 row [00:00, ? row/s]"
      ]
     },
     "metadata": {},
     "output_type": "display_data"
    },
    {
     "data": {
      "application/vnd.jupyter.widget-view+json": {
       "model_id": "954c1ffd74254703bfa41c81d9d16761",
       "version_major": 2,
       "version_minor": 0
      },
      "text/plain": [
       "(pid=106303) Sort Sample 2:   0%|                                                         | 0.00/1.00 [00:00<?…"
      ]
     },
     "metadata": {},
     "output_type": "display_data"
    },
    {
     "data": {
      "application/vnd.jupyter.widget-view+json": {
       "model_id": "c543762c996d4297a67ca17c1ea79519",
       "version_major": 2,
       "version_minor": 0
      },
      "text/plain": [
       "(pid=106303) Shuffle Map 3:   0%|                                                         | 0.00/1.00 [00:00<?…"
      ]
     },
     "metadata": {},
     "output_type": "display_data"
    },
    {
     "data": {
      "application/vnd.jupyter.widget-view+json": {
       "model_id": "5b026291135141aa95141463ca45cb01",
       "version_major": 2,
       "version_minor": 0
      },
      "text/plain": [
       "(pid=106303) Shuffle Reduce 4:   0%|                                                      | 0.00/1.00 [00:00<?…"
      ]
     },
     "metadata": {},
     "output_type": "display_data"
    },
    {
     "data": {
      "application/vnd.jupyter.widget-view+json": {
       "model_id": "7fbc951c81ce445ba622e5f4af1c770c",
       "version_major": 2,
       "version_minor": 0
      },
      "text/plain": [
       "(pid=106303) Sort Sample 2:   0%|                                                         | 0.00/1.00 [00:00<?…"
      ]
     },
     "metadata": {},
     "output_type": "display_data"
    },
    {
     "data": {
      "application/vnd.jupyter.widget-view+json": {
       "model_id": "d46e4c487d8f4f51b3661776136caa38",
       "version_major": 2,
       "version_minor": 0
      },
      "text/plain": [
       "(pid=106303) Shuffle Map 3:   0%|                                                         | 0.00/1.00 [00:00<?…"
      ]
     },
     "metadata": {},
     "output_type": "display_data"
    },
    {
     "data": {
      "application/vnd.jupyter.widget-view+json": {
       "model_id": "b69639b316aa4e3183b16505b1f6e1d0",
       "version_major": 2,
       "version_minor": 0
      },
      "text/plain": [
       "(pid=106303) Shuffle Reduce 4:   0%|                                                      | 0.00/1.00 [00:00<?…"
      ]
     },
     "metadata": {},
     "output_type": "display_data"
    },
    {
     "name": "stdout",
     "output_type": "stream",
     "text": [
      "\u001b[36m(iomax_medium_ray_queries pid=106303)\u001b[0m File results_ray_medium_queries_csv/results_ray_base_medium_25m.txt created/updated successfully!\n",
      "\u001b[36m(iomax_medium_ray_queries pid=106303)\u001b[0m medium,Q3,23.626575231552124,0\n"
     ]
    },
    {
     "name": "stderr",
     "output_type": "stream",
     "text": [
      "\u001b[36m(iomax_medium_ray_queries pid=106303)\u001b[0m Starting execution of Dataset. Full logs are in /tmp/ray/session_2024-11-18_19-54-40_768269_106003/logs/ray-data\n",
      "\u001b[36m(iomax_medium_ray_queries pid=106303)\u001b[0m Execution plan of Dataset: InputDataBuffer[Input] -> AllToAllOperator[Aggregate] -> AllToAllOperator[Aggregate]\n"
     ]
    },
    {
     "data": {
      "application/vnd.jupyter.widget-view+json": {
       "model_id": "cb9f5617e0d24675bda4c43786e159fa",
       "version_major": 2,
       "version_minor": 0
      },
      "text/plain": [
       "(pid=106303) Running 0: 0.00 row [00:00, ? row/s]"
      ]
     },
     "metadata": {},
     "output_type": "display_data"
    },
    {
     "data": {
      "application/vnd.jupyter.widget-view+json": {
       "model_id": "510adb16317246b692351ba29e39df72",
       "version_major": 2,
       "version_minor": 0
      },
      "text/plain": [
       "(pid=106303) Sort Sample 2:   0%|                                                         | 0.00/1.00 [00:00<?…"
      ]
     },
     "metadata": {},
     "output_type": "display_data"
    },
    {
     "data": {
      "application/vnd.jupyter.widget-view+json": {
       "model_id": "bdb4d14c860b4ea381319c6a7c225d37",
       "version_major": 2,
       "version_minor": 0
      },
      "text/plain": [
       "(pid=106303) Shuffle Map 3:   0%|                                                         | 0.00/1.00 [00:00<?…"
      ]
     },
     "metadata": {},
     "output_type": "display_data"
    },
    {
     "data": {
      "application/vnd.jupyter.widget-view+json": {
       "model_id": "5acda9d58eb748fe8ab3d8790126e496",
       "version_major": 2,
       "version_minor": 0
      },
      "text/plain": [
       "(pid=106303) Shuffle Reduce 4:   0%|                                                      | 0.00/1.00 [00:00<?…"
      ]
     },
     "metadata": {},
     "output_type": "display_data"
    },
    {
     "data": {
      "application/vnd.jupyter.widget-view+json": {
       "model_id": "24f36aa4807b41929d103a630760e864",
       "version_major": 2,
       "version_minor": 0
      },
      "text/plain": [
       "(pid=106303) Sort Sample 2:   0%|                                                         | 0.00/1.00 [00:00<?…"
      ]
     },
     "metadata": {},
     "output_type": "display_data"
    },
    {
     "data": {
      "application/vnd.jupyter.widget-view+json": {
       "model_id": "77f27a1f1f114c4ca70df7ec01f0160e",
       "version_major": 2,
       "version_minor": 0
      },
      "text/plain": [
       "(pid=106303) Shuffle Map 3:   0%|                                                         | 0.00/1.00 [00:00<?…"
      ]
     },
     "metadata": {},
     "output_type": "display_data"
    },
    {
     "data": {
      "application/vnd.jupyter.widget-view+json": {
       "model_id": "c57a69483add4e05838fca53cda6c19a",
       "version_major": 2,
       "version_minor": 0
      },
      "text/plain": [
       "(pid=106303) Shuffle Reduce 4:   0%|                                                      | 0.00/1.00 [00:00<?…"
      ]
     },
     "metadata": {},
     "output_type": "display_data"
    },
    {
     "name": "stdout",
     "output_type": "stream",
     "text": [
      "\u001b[36m(iomax_medium_ray_queries pid=106303)\u001b[0m File results_ray_medium_queries_csv/results_ray_base_medium_25m.txt created/updated successfully!\n",
      "\u001b[36m(iomax_medium_ray_queries pid=106303)\u001b[0m medium,Q4,24.867728233337402,0\n"
     ]
    },
    {
     "name": "stderr",
     "output_type": "stream",
     "text": [
      "\u001b[36m(iomax_medium_ray_queries pid=106303)\u001b[0m Starting execution of Dataset. Full logs are in /tmp/ray/session_2024-11-18_19-54-40_768269_106003/logs/ray-data\n",
      "\u001b[36m(iomax_medium_ray_queries pid=106303)\u001b[0m Execution plan of Dataset: InputDataBuffer[Input] -> AllToAllOperator[Aggregate] -> AllToAllOperator[Aggregate]\n"
     ]
    },
    {
     "data": {
      "application/vnd.jupyter.widget-view+json": {
       "model_id": "998468d2de1d4ec2a71d4f295626254e",
       "version_major": 2,
       "version_minor": 0
      },
      "text/plain": [
       "(pid=106303) Running 0: 0.00 row [00:00, ? row/s]"
      ]
     },
     "metadata": {},
     "output_type": "display_data"
    },
    {
     "data": {
      "application/vnd.jupyter.widget-view+json": {
       "model_id": "6e507e9d7fe6427495bd38244231a425",
       "version_major": 2,
       "version_minor": 0
      },
      "text/plain": [
       "(pid=106303) Sort Sample 2:   0%|                                                         | 0.00/1.00 [00:00<?…"
      ]
     },
     "metadata": {},
     "output_type": "display_data"
    },
    {
     "data": {
      "application/vnd.jupyter.widget-view+json": {
       "model_id": "755f69aedab647e4ae1f82ef7c844760",
       "version_major": 2,
       "version_minor": 0
      },
      "text/plain": [
       "(pid=106303) Shuffle Map 3:   0%|                                                         | 0.00/1.00 [00:00<?…"
      ]
     },
     "metadata": {},
     "output_type": "display_data"
    },
    {
     "data": {
      "application/vnd.jupyter.widget-view+json": {
       "model_id": "2d1ed4c3082c4aa18fffd0c3e48c08a8",
       "version_major": 2,
       "version_minor": 0
      },
      "text/plain": [
       "(pid=106303) Shuffle Reduce 4:   0%|                                                      | 0.00/1.00 [00:00<?…"
      ]
     },
     "metadata": {},
     "output_type": "display_data"
    },
    {
     "data": {
      "application/vnd.jupyter.widget-view+json": {
       "model_id": "04a7acda88e84194843308fa6d1a9d2c",
       "version_major": 2,
       "version_minor": 0
      },
      "text/plain": [
       "(pid=106303) Sort Sample 2:   0%|                                                         | 0.00/1.00 [00:00<?…"
      ]
     },
     "metadata": {},
     "output_type": "display_data"
    },
    {
     "data": {
      "application/vnd.jupyter.widget-view+json": {
       "model_id": "6bed33359aff4cabaaddcd43a0f3e126",
       "version_major": 2,
       "version_minor": 0
      },
      "text/plain": [
       "(pid=106303) Shuffle Map 3:   0%|                                                         | 0.00/1.00 [00:00<?…"
      ]
     },
     "metadata": {},
     "output_type": "display_data"
    },
    {
     "data": {
      "application/vnd.jupyter.widget-view+json": {
       "model_id": "31e432639b7544f0b82250270a87ee6f",
       "version_major": 2,
       "version_minor": 0
      },
      "text/plain": [
       "(pid=106303) Shuffle Reduce 4:   0%|                                                      | 0.00/1.00 [00:00<?…"
      ]
     },
     "metadata": {},
     "output_type": "display_data"
    },
    {
     "name": "stdout",
     "output_type": "stream",
     "text": [
      "\u001b[36m(iomax_medium_ray_queries pid=106303)\u001b[0m File results_ray_medium_queries_csv/results_ray_base_medium_25m.txt created/updated successfully!\n",
      "\u001b[36m(iomax_medium_ray_queries pid=106303)\u001b[0m medium,Q5,22.06327509880066,0\n"
     ]
    },
    {
     "name": "stderr",
     "output_type": "stream",
     "text": [
      "\u001b[36m(iomax_medium_ray_queries pid=106303)\u001b[0m Starting execution of Dataset. Full logs are in /tmp/ray/session_2024-11-18_19-54-40_768269_106003/logs/ray-data\n",
      "\u001b[36m(iomax_medium_ray_queries pid=106303)\u001b[0m Execution plan of Dataset: InputDataBuffer[Input] -> AllToAllOperator[Aggregate] -> AllToAllOperator[Aggregate]\n"
     ]
    },
    {
     "data": {
      "application/vnd.jupyter.widget-view+json": {
       "model_id": "f925ab170f8e492d969f7f1a5db62431",
       "version_major": 2,
       "version_minor": 0
      },
      "text/plain": [
       "(pid=106303) Running 0: 0.00 row [00:00, ? row/s]"
      ]
     },
     "metadata": {},
     "output_type": "display_data"
    },
    {
     "data": {
      "application/vnd.jupyter.widget-view+json": {
       "model_id": "6b25c562b3c14dec9580f86e431beaad",
       "version_major": 2,
       "version_minor": 0
      },
      "text/plain": [
       "(pid=106303) Sort Sample 2:   0%|                                                         | 0.00/1.00 [00:00<?…"
      ]
     },
     "metadata": {},
     "output_type": "display_data"
    },
    {
     "data": {
      "application/vnd.jupyter.widget-view+json": {
       "model_id": "2c935bb13814468f9978f7eb14592180",
       "version_major": 2,
       "version_minor": 0
      },
      "text/plain": [
       "(pid=106303) Shuffle Map 3:   0%|                                                         | 0.00/1.00 [00:00<?…"
      ]
     },
     "metadata": {},
     "output_type": "display_data"
    },
    {
     "data": {
      "application/vnd.jupyter.widget-view+json": {
       "model_id": "f5877f8b8796458b8e90f98e57535321",
       "version_major": 2,
       "version_minor": 0
      },
      "text/plain": [
       "(pid=106303) Shuffle Reduce 4:   0%|                                                      | 0.00/1.00 [00:00<?…"
      ]
     },
     "metadata": {},
     "output_type": "display_data"
    },
    {
     "data": {
      "application/vnd.jupyter.widget-view+json": {
       "model_id": "b973f20b73a6462db389bed037e35b02",
       "version_major": 2,
       "version_minor": 0
      },
      "text/plain": [
       "(pid=106303) Sort Sample 2:   0%|                                                         | 0.00/1.00 [00:00<?…"
      ]
     },
     "metadata": {},
     "output_type": "display_data"
    },
    {
     "data": {
      "application/vnd.jupyter.widget-view+json": {
       "model_id": "54ac37ec6c074a4a82fff31949aaab18",
       "version_major": 2,
       "version_minor": 0
      },
      "text/plain": [
       "(pid=106303) Shuffle Map 3:   0%|                                                         | 0.00/1.00 [00:00<?…"
      ]
     },
     "metadata": {},
     "output_type": "display_data"
    },
    {
     "data": {
      "application/vnd.jupyter.widget-view+json": {
       "model_id": "e532a686ca1940baabeed43042d9d9bc",
       "version_major": 2,
       "version_minor": 0
      },
      "text/plain": [
       "(pid=106303) Shuffle Reduce 4:   0%|                                                      | 0.00/1.00 [00:00<?…"
      ]
     },
     "metadata": {},
     "output_type": "display_data"
    },
    {
     "name": "stdout",
     "output_type": "stream",
     "text": [
      "\u001b[36m(iomax_medium_ray_queries pid=106303)\u001b[0m File results_ray_medium_queries_csv/results_ray_base_medium_25m.txt created/updated successfully!\n",
      "\u001b[36m(iomax_medium_ray_queries pid=106303)\u001b[0m medium,Q6,24.09229016304016,0\n"
     ]
    },
    {
     "name": "stderr",
     "output_type": "stream",
     "text": [
      "\u001b[36m(iomax_medium_ray_queries pid=106303)\u001b[0m Starting execution of Dataset. Full logs are in /tmp/ray/session_2024-11-18_19-54-40_768269_106003/logs/ray-data\n",
      "\u001b[36m(iomax_medium_ray_queries pid=106303)\u001b[0m Execution plan of Dataset: InputDataBuffer[Input] -> AllToAllOperator[Aggregate] -> AllToAllOperator[Aggregate]\n"
     ]
    },
    {
     "data": {
      "application/vnd.jupyter.widget-view+json": {
       "model_id": "91e992b7aad1492f9e559afea2514b53",
       "version_major": 2,
       "version_minor": 0
      },
      "text/plain": [
       "(pid=106303) Running 0: 0.00 row [00:00, ? row/s]"
      ]
     },
     "metadata": {},
     "output_type": "display_data"
    },
    {
     "data": {
      "application/vnd.jupyter.widget-view+json": {
       "model_id": "c5cfe151cdc048a1b8b575cac2f47968",
       "version_major": 2,
       "version_minor": 0
      },
      "text/plain": [
       "(pid=106303) Sort Sample 2:   0%|                                                         | 0.00/1.00 [00:00<?…"
      ]
     },
     "metadata": {},
     "output_type": "display_data"
    },
    {
     "data": {
      "application/vnd.jupyter.widget-view+json": {
       "model_id": "f4d1b1c27f6443259442c048eb5807f5",
       "version_major": 2,
       "version_minor": 0
      },
      "text/plain": [
       "(pid=106303) Shuffle Map 3:   0%|                                                         | 0.00/1.00 [00:00<?…"
      ]
     },
     "metadata": {},
     "output_type": "display_data"
    },
    {
     "data": {
      "application/vnd.jupyter.widget-view+json": {
       "model_id": "65a366ff956949bca590d99e01c9952e",
       "version_major": 2,
       "version_minor": 0
      },
      "text/plain": [
       "(pid=106303) Shuffle Reduce 4:   0%|                                                      | 0.00/1.00 [00:00<?…"
      ]
     },
     "metadata": {},
     "output_type": "display_data"
    },
    {
     "data": {
      "application/vnd.jupyter.widget-view+json": {
       "model_id": "6d8596ef440b4e89a6a593001ce9eeb6",
       "version_major": 2,
       "version_minor": 0
      },
      "text/plain": [
       "(pid=106303) Sort Sample 2:   0%|                                                         | 0.00/1.00 [00:00<?…"
      ]
     },
     "metadata": {},
     "output_type": "display_data"
    },
    {
     "data": {
      "application/vnd.jupyter.widget-view+json": {
       "model_id": "c025f6f9001a488cae122bad8f97d037",
       "version_major": 2,
       "version_minor": 0
      },
      "text/plain": [
       "(pid=106303) Shuffle Map 3:   0%|                                                         | 0.00/1.00 [00:00<?…"
      ]
     },
     "metadata": {},
     "output_type": "display_data"
    },
    {
     "data": {
      "application/vnd.jupyter.widget-view+json": {
       "model_id": "5b7404d25c464930847e61f00119ed50",
       "version_major": 2,
       "version_minor": 0
      },
      "text/plain": [
       "(pid=106303) Shuffle Reduce 4:   0%|                                                      | 0.00/1.00 [00:00<?…"
      ]
     },
     "metadata": {},
     "output_type": "display_data"
    },
    {
     "name": "stdout",
     "output_type": "stream",
     "text": [
      "\u001b[36m(iomax_medium_ray_queries pid=106303)\u001b[0m File results_ray_medium_queries_csv/results_ray_base_medium_25m.txt created/updated successfully!\n",
      "\u001b[36m(iomax_medium_ray_queries pid=106303)\u001b[0m medium,Q7,5.961038589477539,0\n"
     ]
    },
    {
     "name": "stderr",
     "output_type": "stream",
     "text": [
      "\u001b[36m(iomax_medium_ray_queries pid=106303)\u001b[0m Starting execution of Dataset. Full logs are in /tmp/ray/session_2024-11-18_19-54-40_768269_106003/logs/ray-data\n",
      "\u001b[36m(iomax_medium_ray_queries pid=106303)\u001b[0m Execution plan of Dataset: InputDataBuffer[Input] -> AllToAllOperator[Aggregate] -> AllToAllOperator[Aggregate]\n"
     ]
    },
    {
     "data": {
      "application/vnd.jupyter.widget-view+json": {
       "model_id": "4991a19d366542b8b5e98a2c148aa4a1",
       "version_major": 2,
       "version_minor": 0
      },
      "text/plain": [
       "(pid=106303) Running 0: 0.00 row [00:00, ? row/s]"
      ]
     },
     "metadata": {},
     "output_type": "display_data"
    },
    {
     "data": {
      "application/vnd.jupyter.widget-view+json": {
       "model_id": "078dac5a45134a89a3c4c72c1425ac2a",
       "version_major": 2,
       "version_minor": 0
      },
      "text/plain": [
       "(pid=106303) Sort Sample 2:   0%|                                                         | 0.00/1.00 [00:00<?…"
      ]
     },
     "metadata": {},
     "output_type": "display_data"
    },
    {
     "data": {
      "application/vnd.jupyter.widget-view+json": {
       "model_id": "f410504e4e824458a4d897c0187291fb",
       "version_major": 2,
       "version_minor": 0
      },
      "text/plain": [
       "(pid=106303) Shuffle Map 3:   0%|                                                         | 0.00/1.00 [00:00<?…"
      ]
     },
     "metadata": {},
     "output_type": "display_data"
    },
    {
     "data": {
      "application/vnd.jupyter.widget-view+json": {
       "model_id": "ab12d5740e8849a680a762759cc7f277",
       "version_major": 2,
       "version_minor": 0
      },
      "text/plain": [
       "(pid=106303) Shuffle Reduce 4:   0%|                                                      | 0.00/1.00 [00:00<?…"
      ]
     },
     "metadata": {},
     "output_type": "display_data"
    },
    {
     "data": {
      "application/vnd.jupyter.widget-view+json": {
       "model_id": "1728474bc1ac40b7bf11feb9510c1140",
       "version_major": 2,
       "version_minor": 0
      },
      "text/plain": [
       "(pid=106303) Sort Sample 2:   0%|                                                         | 0.00/1.00 [00:00<?…"
      ]
     },
     "metadata": {},
     "output_type": "display_data"
    },
    {
     "data": {
      "application/vnd.jupyter.widget-view+json": {
       "model_id": "0443715d71bd4f8196c8e740976b5dfe",
       "version_major": 2,
       "version_minor": 0
      },
      "text/plain": [
       "(pid=106303) Shuffle Map 3:   0%|                                                         | 0.00/1.00 [00:00<?…"
      ]
     },
     "metadata": {},
     "output_type": "display_data"
    },
    {
     "data": {
      "application/vnd.jupyter.widget-view+json": {
       "model_id": "eb540f35989b4119957dcc94cefde62b",
       "version_major": 2,
       "version_minor": 0
      },
      "text/plain": [
       "(pid=106303) Shuffle Reduce 4:   0%|                                                      | 0.00/1.00 [00:00<?…"
      ]
     },
     "metadata": {},
     "output_type": "display_data"
    },
    {
     "name": "stdout",
     "output_type": "stream",
     "text": [
      "\u001b[36m(iomax_medium_ray_queries pid=106303)\u001b[0m File results_ray_medium_queries_csv/results_ray_base_medium_25m.txt created/updated successfully!\n",
      "\u001b[36m(iomax_medium_ray_queries pid=106303)\u001b[0m medium,Q8,5.836777925491333,0\n"
     ]
    },
    {
     "name": "stderr",
     "output_type": "stream",
     "text": [
      "\u001b[36m(iomax_medium_ray_queries pid=106303)\u001b[0m Starting execution of Dataset. Full logs are in /tmp/ray/session_2024-11-18_19-54-40_768269_106003/logs/ray-data\n",
      "\u001b[36m(iomax_medium_ray_queries pid=106303)\u001b[0m Execution plan of Dataset: InputDataBuffer[Input] -> AllToAllOperator[Aggregate] -> AllToAllOperator[Aggregate]\n"
     ]
    },
    {
     "data": {
      "application/vnd.jupyter.widget-view+json": {
       "model_id": "721bbd2b6b454f259415a48e7799d657",
       "version_major": 2,
       "version_minor": 0
      },
      "text/plain": [
       "(pid=106303) Running 0: 0.00 row [00:00, ? row/s]"
      ]
     },
     "metadata": {},
     "output_type": "display_data"
    },
    {
     "data": {
      "application/vnd.jupyter.widget-view+json": {
       "model_id": "84698f3bc38443e5b256c94b4873d5f0",
       "version_major": 2,
       "version_minor": 0
      },
      "text/plain": [
       "(pid=106303) Sort Sample 2:   0%|                                                         | 0.00/1.00 [00:00<?…"
      ]
     },
     "metadata": {},
     "output_type": "display_data"
    },
    {
     "data": {
      "application/vnd.jupyter.widget-view+json": {
       "model_id": "88ecc94af78943e0b8fba81d76cbb5f8",
       "version_major": 2,
       "version_minor": 0
      },
      "text/plain": [
       "(pid=106303) Shuffle Map 3:   0%|                                                         | 0.00/1.00 [00:00<?…"
      ]
     },
     "metadata": {},
     "output_type": "display_data"
    },
    {
     "data": {
      "application/vnd.jupyter.widget-view+json": {
       "model_id": "8dc333178d1447c08c2187c7f4024e4b",
       "version_major": 2,
       "version_minor": 0
      },
      "text/plain": [
       "(pid=106303) Shuffle Reduce 4:   0%|                                                      | 0.00/1.00 [00:00<?…"
      ]
     },
     "metadata": {},
     "output_type": "display_data"
    },
    {
     "data": {
      "application/vnd.jupyter.widget-view+json": {
       "model_id": "50f416e9767b4feeaa2e7ea5fbbcadbd",
       "version_major": 2,
       "version_minor": 0
      },
      "text/plain": [
       "(pid=106303) Sort Sample 2:   0%|                                                         | 0.00/1.00 [00:00<?…"
      ]
     },
     "metadata": {},
     "output_type": "display_data"
    },
    {
     "data": {
      "application/vnd.jupyter.widget-view+json": {
       "model_id": "6f6b0cc7ff624374ad982d76bccc4b96",
       "version_major": 2,
       "version_minor": 0
      },
      "text/plain": [
       "(pid=106303) Shuffle Map 3:   0%|                                                         | 0.00/1.00 [00:00<?…"
      ]
     },
     "metadata": {},
     "output_type": "display_data"
    },
    {
     "data": {
      "application/vnd.jupyter.widget-view+json": {
       "model_id": "fc6858eed6be4a62859dd3454c6428ac",
       "version_major": 2,
       "version_minor": 0
      },
      "text/plain": [
       "(pid=106303) Shuffle Reduce 4:   0%|                                                      | 0.00/1.00 [00:00<?…"
      ]
     },
     "metadata": {},
     "output_type": "display_data"
    },
    {
     "name": "stdout",
     "output_type": "stream",
     "text": [
      "\u001b[36m(iomax_medium_ray_queries pid=106303)\u001b[0m File results_ray_medium_queries_csv/results_ray_base_medium_25m.txt created/updated successfully!\n",
      "\u001b[36m(iomax_medium_ray_queries pid=106303)\u001b[0m medium,Q9,6.996642351150513,0\n"
     ]
    },
    {
     "name": "stderr",
     "output_type": "stream",
     "text": [
      "\u001b[36m(iomax_medium_ray_queries pid=106303)\u001b[0m Starting execution of Dataset. Full logs are in /tmp/ray/session_2024-11-18_19-54-40_768269_106003/logs/ray-data\n",
      "\u001b[36m(iomax_medium_ray_queries pid=106303)\u001b[0m Execution plan of Dataset: InputDataBuffer[Input] -> AllToAllOperator[Aggregate] -> AllToAllOperator[Aggregate]\n"
     ]
    },
    {
     "data": {
      "application/vnd.jupyter.widget-view+json": {
       "model_id": "89f919524a634c5aaa5aaec1625ab2f3",
       "version_major": 2,
       "version_minor": 0
      },
      "text/plain": [
       "(pid=106303) Running 0: 0.00 row [00:00, ? row/s]"
      ]
     },
     "metadata": {},
     "output_type": "display_data"
    },
    {
     "data": {
      "application/vnd.jupyter.widget-view+json": {
       "model_id": "6cdf5e78bdd243c886ce312be0c90d94",
       "version_major": 2,
       "version_minor": 0
      },
      "text/plain": [
       "(pid=106303) Sort Sample 2:   0%|                                                         | 0.00/1.00 [00:00<?…"
      ]
     },
     "metadata": {},
     "output_type": "display_data"
    },
    {
     "data": {
      "application/vnd.jupyter.widget-view+json": {
       "model_id": "4ac779efe5744324bfe5e0dcb2f1dec5",
       "version_major": 2,
       "version_minor": 0
      },
      "text/plain": [
       "(pid=106303) Shuffle Map 3:   0%|                                                         | 0.00/1.00 [00:00<?…"
      ]
     },
     "metadata": {},
     "output_type": "display_data"
    },
    {
     "data": {
      "application/vnd.jupyter.widget-view+json": {
       "model_id": "f95377ea79354da0ae424a00a3bd63d0",
       "version_major": 2,
       "version_minor": 0
      },
      "text/plain": [
       "(pid=106303) Shuffle Reduce 4:   0%|                                                      | 0.00/1.00 [00:00<?…"
      ]
     },
     "metadata": {},
     "output_type": "display_data"
    },
    {
     "data": {
      "application/vnd.jupyter.widget-view+json": {
       "model_id": "b06fb6b838fa436f8c1007dc13d506f2",
       "version_major": 2,
       "version_minor": 0
      },
      "text/plain": [
       "(pid=106303) Sort Sample 2:   0%|                                                         | 0.00/1.00 [00:00<?…"
      ]
     },
     "metadata": {},
     "output_type": "display_data"
    },
    {
     "data": {
      "application/vnd.jupyter.widget-view+json": {
       "model_id": "a616a704647b4ed08e3fb6470d286641",
       "version_major": 2,
       "version_minor": 0
      },
      "text/plain": [
       "(pid=106303) Shuffle Map 3:   0%|                                                         | 0.00/1.00 [00:00<?…"
      ]
     },
     "metadata": {},
     "output_type": "display_data"
    },
    {
     "data": {
      "application/vnd.jupyter.widget-view+json": {
       "model_id": "1596fbe47b284d29a8cf8528a82d3bd0",
       "version_major": 2,
       "version_minor": 0
      },
      "text/plain": [
       "(pid=106303) Shuffle Reduce 4:   0%|                                                      | 0.00/1.00 [00:00<?…"
      ]
     },
     "metadata": {},
     "output_type": "display_data"
    },
    {
     "name": "stdout",
     "output_type": "stream",
     "text": [
      "\u001b[36m(iomax_medium_ray_queries pid=106303)\u001b[0m File results_ray_medium_queries_csv/results_ray_base_medium_25m.txt created/updated successfully!\n",
      "\u001b[36m(iomax_medium_ray_queries pid=106303)\u001b[0m medium,Q10,6.09261679649353,0\n"
     ]
    }
   ],
   "source": [
    "import ray\n",
    "import ray.data as rd\n",
    "from ray.data.aggregate import AggregateFn\n",
    "from time import time\n",
    "import os\n",
    "import pandas as pd\n",
    "import itertools as it\n",
    "import gc\n",
    "\n",
    "\n",
    "# Initialize Ray\n",
    "ray.init(_temp_dir=\"/tmp/ray\", object_store_memory=10**9)\n",
    "\n",
    "# Define combinations of indices\n",
    "indices = ['filename', 'application', 'io_zone', 'redundancy_type']\n",
    "combinations = list(it.combinations(indices, r=2))[:5]\n",
    "\n",
    "# Function to log results to a file\n",
    "def log_results_to_file(result_file, time_elapsed, memory_usage):\n",
    "    with open(result_file, 'a') as f:\n",
    "        f.write(f\"Times: {time_elapsed}, Memory: {memory_usage}\\n\")\n",
    "    if os.path.exists(result_file):\n",
    "        print(f\"File {result_file} created/updated successfully!\")\n",
    "    else:\n",
    "        print(f\"Error: {result_file} was not created.\")\n",
    "\n",
    "@ray.remote\n",
    "def base_medium_ray_queries(log_dir, result_file):\n",
    "    print(\"base_medium_ray_queries\")\n",
    "    \n",
    "    # Load the dataset with Ray\n",
    "    df = rd.read_csv(log_dir)\n",
    "    \n",
    "    query_index = 0\n",
    "    for ix, iy in combinations:\n",
    "        for col in ['request_io_size_bytes', 'disk_time']:\n",
    "            query_index += 1\n",
    "            t1 = time()\n",
    "            \n",
    "            try:\n",
    "                group_by = df.groupby([ix, iy]).materialize()\n",
    "                aggregated = group_by.aggregate(\n",
    "                    AggregateFn(\n",
    "                        init=lambda col_val: 0,\n",
    "                        accumulate_row=lambda acc, row: acc + row[col],\n",
    "                        merge=lambda acc1, acc2: acc1 + acc2,\n",
    "                        name=f\"{col}_sum\"\n",
    "                    )\n",
    "                ).materialize()\n",
    "\n",
    "                res = aggregated.groupby([ix]).aggregate(\n",
    "                    AggregateFn(\n",
    "                        init=lambda col_val: 0,\n",
    "                        accumulate_row=lambda acc, row: acc + row[f\"{col}_sum\"],\n",
    "                        merge=lambda acc1, acc2: acc1 + acc2,\n",
    "                        name=f\"{col}_sum_final\"\n",
    "                    )\n",
    "                ).materialize()\n",
    "\n",
    "                # Compute memory usage\n",
    "                if isinstance(res, ray.data.Dataset):\n",
    "                    memory_usage = res.size_bytes()\n",
    "                else:\n",
    "                    memory_usage = res.memory_usage(deep=True).sum()\n",
    "\n",
    "                time_elapsed = time() - t1\n",
    "                \n",
    "                # Log results\n",
    "                log_results_to_file(result_file, time_elapsed, memory_usage)\n",
    "                print(f\"medium,Q{query_index},{time_elapsed},{memory_usage}\")\n",
    "\n",
    "            except Exception as e:\n",
    "                print(f\"Error in query {query_index}: {e}\")\n",
    "                continue\n",
    "\n",
    "    # Cleanup\n",
    "    del df, res\n",
    "    gc.collect()\n",
    "\n",
    "@ray.remote\n",
    "def iomax_medium_ray_queries(log_dir, result_file):\n",
    "    print(f\",iomax_medium_ray_queries\")\n",
    "    \n",
    "    # Load the dataset\n",
    "    df = rd.read_csv(log_dir)\n",
    "    query_index = 0\n",
    "    x = None  # Placeholder for the precomputed result\n",
    "    \n",
    "    # List of columns to group by\n",
    "    indices = ['filename', 'application', 'io_zone', 'redundancy_type']\n",
    "    \n",
    "    for ix, iy in combinations:\n",
    "        for col in ['request_io_size_bytes', 'disk_time']:\n",
    "            query_index += 1\n",
    "            t1 = time()\n",
    "            memory_usage = 0\n",
    "\n",
    "            try:\n",
    "                if query_index == 1:\n",
    "                    x = df.groupby(indices).aggregate(\n",
    "                        AggregateFn(\n",
    "                            init=lambda _: 0,\n",
    "                            accumulate_row=lambda acc, row: acc + row['request_io_size_bytes'],\n",
    "                            merge=lambda acc1, acc2: acc1 + acc2,\n",
    "                            name=\"request_io_size_bytes\"\n",
    "                        ),\n",
    "                        AggregateFn(\n",
    "                            init=lambda _: 0,\n",
    "                            accumulate_row=lambda acc, row: acc + row['disk_time'],\n",
    "                            merge=lambda acc1, acc2: acc1 + acc2,\n",
    "                            name=\"disk_time\"\n",
    "                        )\n",
    "                    ).materialize()\n",
    "\n",
    "                    # Compute memory usage (approximation)\n",
    "                    if isinstance(x, ray.data.Dataset):\n",
    "                        memory_usage = x.size_bytes()\n",
    "                    else:\n",
    "                        memory_usage = x.memory_usage(deep=True).sum()\n",
    "\n",
    "                # Reuse `x` for subsequent queries\n",
    "                grouped = x.groupby([ix, iy]).aggregate(\n",
    "                    AggregateFn(\n",
    "                        init=lambda _: 0,\n",
    "                        accumulate_row=lambda acc, row: acc + row[col],\n",
    "                        merge=lambda acc1, acc2: acc1 + acc2,\n",
    "                        name=f\"{col}_sum_final\"\n",
    "                    )\n",
    "                ).groupby([ix]).aggregate(\n",
    "                    AggregateFn(\n",
    "                        init=lambda _: 0,\n",
    "                        accumulate_row=lambda acc, row: acc + row[f\"{col}_sum_final\"],\n",
    "                        merge=lambda acc1, acc2: acc1 + acc2,\n",
    "                        name=f\"{col}_sum_total\"\n",
    "                    )\n",
    "                ).materialize()\n",
    "\n",
    "                time_elapsed = time() - t1\n",
    "                \n",
    "                # Log results\n",
    "                log_results_to_file(result_file, time_elapsed, memory_usage)\n",
    "                print(f\"medium,Q{query_index},{time_elapsed},{memory_usage}\")\n",
    "\n",
    "            except Exception as e:\n",
    "                print(f\"Error in query {query_index}: {e}\")\n",
    "                continue\n",
    "\n",
    "    # Cleanup\n",
    "    del df, x\n",
    "    gc.collect()\n",
    "\n",
    "ray.get(iomax_medium_ray_queries.remote(\"../datasets_thesios_io_traces/dataset-25m.csv\", \"results_ray_medium_queries_csv/results_ray_base_medium_25m.txt\"))\n",
    "\n",
    "# Shut down Ray after queries complete\n",
    "ray.shutdown()"
   ]
  },
  {
   "cell_type": "code",
   "execution_count": 2,
   "id": "de9fb871-1615-4463-8958-7a3dd4fa51d6",
   "metadata": {},
   "outputs": [],
   "source": [
    "ray.shutdown()"
   ]
  },
  {
   "cell_type": "code",
   "execution_count": null,
   "id": "2ec5721b-8323-4f31-99a2-46fe02825688",
   "metadata": {},
   "outputs": [],
   "source": []
  }
 ],
 "metadata": {
  "kernelspec": {
   "display_name": "Python 3 (ipykernel)",
   "language": "python",
   "name": "python3"
  },
  "language_info": {
   "codemirror_mode": {
    "name": "ipython",
    "version": 3
   },
   "file_extension": ".py",
   "mimetype": "text/x-python",
   "name": "python",
   "nbconvert_exporter": "python",
   "pygments_lexer": "ipython3",
   "version": "3.11.10"
  }
 },
 "nbformat": 4,
 "nbformat_minor": 5
}
