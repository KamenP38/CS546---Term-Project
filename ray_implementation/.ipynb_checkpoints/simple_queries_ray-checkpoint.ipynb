{
 "cells": [
  {
   "cell_type": "code",
   "execution_count": 1,
   "id": "61445d0e-acaf-4c4b-b8e6-b0287e2a3191",
   "metadata": {},
   "outputs": [
    {
     "name": "stderr",
     "output_type": "stream",
     "text": [
      "2024-11-25 11:22:17,646\tINFO worker.py:1816 -- Started a local Ray instance.\n"
     ]
    },
    {
     "name": "stdout",
     "output_type": "stream",
     "text": [
      "\u001b[36m(base_simple_ray_queries pid=50254)\u001b[0m ,base_simple_ray_queries\n"
     ]
    },
    {
     "data": {
      "application/vnd.jupyter.widget-view+json": {
       "model_id": "fe7c8284f56d470d8c4527d3f30aa1fa",
       "version_major": 2,
       "version_minor": 0
      },
      "text/plain": [
       "(pid=50254) Running 0: 0.00 row [00:00, ? row/s]"
      ]
     },
     "metadata": {},
     "output_type": "display_data"
    },
    {
     "name": "stderr",
     "output_type": "stream",
     "text": [
      "\u001b[36m(base_simple_ray_queries pid=50254)\u001b[0m Starting execution of Dataset. Full logs are in /tmp/ray/session_2024-11-25_11-22-15_763215_49327/logs/ray-data\n",
      "\u001b[36m(base_simple_ray_queries pid=50254)\u001b[0m Execution plan of Dataset: InputDataBuffer[Input] -> TaskPoolMapOperator[ReadCSV]\n"
     ]
    },
    {
     "data": {
      "application/vnd.jupyter.widget-view+json": {
       "model_id": "1134e2a1a3264f6b96def128eef467dc",
       "version_major": 2,
       "version_minor": 0
      },
      "text/plain": [
       "(pid=50254) Running 0: 0.00 row [00:00, ? row/s]"
      ]
     },
     "metadata": {},
     "output_type": "display_data"
    },
    {
     "data": {
      "application/vnd.jupyter.widget-view+json": {
       "model_id": "c15848b884014e5f8c8135c7bb6fddd5",
       "version_major": 2,
       "version_minor": 0
      },
      "text/plain": [
       "(pid=50254) Sort Sample 2:   0%|                                                          | 0.00/1.00 [00:00<?…"
      ]
     },
     "metadata": {},
     "output_type": "display_data"
    },
    {
     "data": {
      "application/vnd.jupyter.widget-view+json": {
       "model_id": "f40d857173b940a687eb1e0bf9ef5b01",
       "version_major": 2,
       "version_minor": 0
      },
      "text/plain": [
       "(pid=50254) Shuffle Map 3:   0%|                                                          | 0.00/1.00 [00:00<?…"
      ]
     },
     "metadata": {},
     "output_type": "display_data"
    },
    {
     "data": {
      "application/vnd.jupyter.widget-view+json": {
       "model_id": "f8aaaa12397645c98887b8e6e192029f",
       "version_major": 2,
       "version_minor": 0
      },
      "text/plain": [
       "(pid=50254) Shuffle Reduce 4:   0%|                                                       | 0.00/1.00 [00:00<?…"
      ]
     },
     "metadata": {},
     "output_type": "display_data"
    },
    {
     "name": "stderr",
     "output_type": "stream",
     "text": [
      "\u001b[36m(base_simple_ray_queries pid=50254)\u001b[0m Starting execution of Dataset. Full logs are in /tmp/ray/session_2024-11-25_11-22-15_763215_49327/logs/ray-data\n",
      "\u001b[36m(base_simple_ray_queries pid=50254)\u001b[0m Execution plan of Dataset: InputDataBuffer[Input] -> TaskPoolMapOperator[ReadCSV] -> AllToAllOperator[Aggregate]\n"
     ]
    },
    {
     "name": "stdout",
     "output_type": "stream",
     "text": [
      "\u001b[36m(base_simple_ray_queries pid=50254)\u001b[0m File results_ray_simple_queries_csv/results_ray_base_simple_200k_TEST.txt created/updated successfully!\n",
      "\u001b[36m(base_simple_ray_queries pid=50254)\u001b[0m simple,Q1,3.0122838020324707,1200496\n"
     ]
    },
    {
     "data": {
      "application/vnd.jupyter.widget-view+json": {
       "model_id": "c41755743b8d41ff9832008c320f671c",
       "version_major": 2,
       "version_minor": 0
      },
      "text/plain": [
       "(pid=50254) Running 0: 0.00 row [00:00, ? row/s]"
      ]
     },
     "metadata": {},
     "output_type": "display_data"
    },
    {
     "data": {
      "application/vnd.jupyter.widget-view+json": {
       "model_id": "8ba41526bc504955b5c94ffbea84a320",
       "version_major": 2,
       "version_minor": 0
      },
      "text/plain": [
       "(pid=50254) Sort Sample 2:   0%|                                                          | 0.00/1.00 [00:00<?…"
      ]
     },
     "metadata": {},
     "output_type": "display_data"
    },
    {
     "data": {
      "application/vnd.jupyter.widget-view+json": {
       "model_id": "c99ca14258084c73922fb23c28d63662",
       "version_major": 2,
       "version_minor": 0
      },
      "text/plain": [
       "(pid=50254) Shuffle Map 3:   0%|                                                          | 0.00/1.00 [00:00<?…"
      ]
     },
     "metadata": {},
     "output_type": "display_data"
    },
    {
     "data": {
      "application/vnd.jupyter.widget-view+json": {
       "model_id": "a73e13012f5a4209b1ca632cb317bb5e",
       "version_major": 2,
       "version_minor": 0
      },
      "text/plain": [
       "(pid=50254) Shuffle Reduce 4:   0%|                                                       | 0.00/1.00 [00:00<?…"
      ]
     },
     "metadata": {},
     "output_type": "display_data"
    },
    {
     "name": "stderr",
     "output_type": "stream",
     "text": [
      "\u001b[36m(base_simple_ray_queries pid=50254)\u001b[0m Starting execution of Dataset. Full logs are in /tmp/ray/session_2024-11-25_11-22-15_763215_49327/logs/ray-data\n",
      "\u001b[36m(base_simple_ray_queries pid=50254)\u001b[0m Execution plan of Dataset: InputDataBuffer[Input] -> TaskPoolMapOperator[ReadCSV] -> AllToAllOperator[Aggregate]\n"
     ]
    },
    {
     "name": "stdout",
     "output_type": "stream",
     "text": [
      "\u001b[36m(base_simple_ray_queries pid=50254)\u001b[0m File results_ray_simple_queries_csv/results_ray_base_simple_200k_TEST.txt created/updated successfully!\n",
      "\u001b[36m(base_simple_ray_queries pid=50254)\u001b[0m simple,Q2,0.9253604412078857,1200496\n"
     ]
    },
    {
     "data": {
      "application/vnd.jupyter.widget-view+json": {
       "model_id": "846271dddb4a4cc2a1be8faa62b07568",
       "version_major": 2,
       "version_minor": 0
      },
      "text/plain": [
       "(pid=50254) Running 0: 0.00 row [00:00, ? row/s]"
      ]
     },
     "metadata": {},
     "output_type": "display_data"
    },
    {
     "data": {
      "application/vnd.jupyter.widget-view+json": {
       "model_id": "0831086503ec4d1a9da5a724d34883ea",
       "version_major": 2,
       "version_minor": 0
      },
      "text/plain": [
       "(pid=50254) Sort Sample 2:   0%|                                                          | 0.00/1.00 [00:00<?…"
      ]
     },
     "metadata": {},
     "output_type": "display_data"
    },
    {
     "data": {
      "application/vnd.jupyter.widget-view+json": {
       "model_id": "997a0fadcd9b4384b53dc16c01a17a39",
       "version_major": 2,
       "version_minor": 0
      },
      "text/plain": [
       "(pid=50254) Shuffle Map 3:   0%|                                                          | 0.00/1.00 [00:00<?…"
      ]
     },
     "metadata": {},
     "output_type": "display_data"
    },
    {
     "data": {
      "application/vnd.jupyter.widget-view+json": {
       "model_id": "987c020115e343a0ad6e38d311adc0a9",
       "version_major": 2,
       "version_minor": 0
      },
      "text/plain": [
       "(pid=50254) Shuffle Reduce 4:   0%|                                                       | 0.00/1.00 [00:00<?…"
      ]
     },
     "metadata": {},
     "output_type": "display_data"
    },
    {
     "name": "stderr",
     "output_type": "stream",
     "text": [
      "\u001b[36m(base_simple_ray_queries pid=50254)\u001b[0m Starting execution of Dataset. Full logs are in /tmp/ray/session_2024-11-25_11-22-15_763215_49327/logs/ray-data\n",
      "\u001b[36m(base_simple_ray_queries pid=50254)\u001b[0m Execution plan of Dataset: InputDataBuffer[Input] -> TaskPoolMapOperator[ReadCSV] -> AllToAllOperator[Aggregate]\n"
     ]
    },
    {
     "name": "stdout",
     "output_type": "stream",
     "text": [
      "\u001b[36m(base_simple_ray_queries pid=50254)\u001b[0m File results_ray_simple_queries_csv/results_ray_base_simple_200k_TEST.txt created/updated successfully!\n",
      "\u001b[36m(base_simple_ray_queries pid=50254)\u001b[0m simple,Q3,0.775383472442627,1200496\n"
     ]
    },
    {
     "data": {
      "application/vnd.jupyter.widget-view+json": {
       "model_id": "22ab91a69a194192b055c4f8aa99825f",
       "version_major": 2,
       "version_minor": 0
      },
      "text/plain": [
       "(pid=50254) Running 0: 0.00 row [00:00, ? row/s]"
      ]
     },
     "metadata": {},
     "output_type": "display_data"
    },
    {
     "data": {
      "application/vnd.jupyter.widget-view+json": {
       "model_id": "f635aba9fb1a4abd967ac9c6b6fb68aa",
       "version_major": 2,
       "version_minor": 0
      },
      "text/plain": [
       "(pid=50254) Sort Sample 2:   0%|                                                          | 0.00/1.00 [00:00<?…"
      ]
     },
     "metadata": {},
     "output_type": "display_data"
    },
    {
     "data": {
      "application/vnd.jupyter.widget-view+json": {
       "model_id": "f133d75f3fe546efaa5aead840f09446",
       "version_major": 2,
       "version_minor": 0
      },
      "text/plain": [
       "(pid=50254) Shuffle Map 3:   0%|                                                          | 0.00/1.00 [00:00<?…"
      ]
     },
     "metadata": {},
     "output_type": "display_data"
    },
    {
     "data": {
      "application/vnd.jupyter.widget-view+json": {
       "model_id": "db964c197fe5437ca720f52a4a1035a2",
       "version_major": 2,
       "version_minor": 0
      },
      "text/plain": [
       "(pid=50254) Shuffle Reduce 4:   0%|                                                       | 0.00/1.00 [00:00<?…"
      ]
     },
     "metadata": {},
     "output_type": "display_data"
    },
    {
     "name": "stderr",
     "output_type": "stream",
     "text": [
      "\u001b[36m(base_simple_ray_queries pid=50254)\u001b[0m Starting execution of Dataset. Full logs are in /tmp/ray/session_2024-11-25_11-22-15_763215_49327/logs/ray-data\n",
      "\u001b[36m(base_simple_ray_queries pid=50254)\u001b[0m Execution plan of Dataset: InputDataBuffer[Input] -> TaskPoolMapOperator[ReadCSV] -> AllToAllOperator[Aggregate]\n"
     ]
    },
    {
     "name": "stdout",
     "output_type": "stream",
     "text": [
      "\u001b[36m(base_simple_ray_queries pid=50254)\u001b[0m File results_ray_simple_queries_csv/results_ray_base_simple_200k_TEST.txt created/updated successfully!\n",
      "\u001b[36m(base_simple_ray_queries pid=50254)\u001b[0m simple,Q4,0.7818777561187744,1200496\n"
     ]
    },
    {
     "data": {
      "application/vnd.jupyter.widget-view+json": {
       "model_id": "78bbde18a73a4973864444bb0c3caf42",
       "version_major": 2,
       "version_minor": 0
      },
      "text/plain": [
       "(pid=50254) Running 0: 0.00 row [00:00, ? row/s]"
      ]
     },
     "metadata": {},
     "output_type": "display_data"
    },
    {
     "name": "stderr",
     "output_type": "stream",
     "text": [
      "\u001b[36m(base_simple_ray_queries pid=50254)\u001b[0m Warning: The Ray cluster currently does not have any available CPUs. The Dataset job will hang unless more CPUs are freed up. A common reason is that cluster resources are used by Actors or Tune trials; see the following link for more details: https://docs.ray.io/en/latest/data/data-internals.html#ray-data-and-tune\n",
      "\u001b[36m(base_simple_ray_queries pid=50254)\u001b[0m Starting execution of Dataset. Full logs are in /tmp/ray/session_2024-11-25_11-22-15_763215_49327/logs/ray-data\n",
      "\u001b[36m(base_simple_ray_queries pid=50254)\u001b[0m Execution plan of Dataset: InputDataBuffer[Input] -> TaskPoolMapOperator[ReadCSV] -> AllToAllOperator[Aggregate]\n"
     ]
    },
    {
     "data": {
      "application/vnd.jupyter.widget-view+json": {
       "model_id": "eb3d741d56b3475fa758fe9a4d5718b1",
       "version_major": 2,
       "version_minor": 0
      },
      "text/plain": [
       "(pid=50254) Sort Sample 2:   0%|                                                          | 0.00/1.00 [00:00<?…"
      ]
     },
     "metadata": {},
     "output_type": "display_data"
    },
    {
     "data": {
      "application/vnd.jupyter.widget-view+json": {
       "model_id": "06bafb5e39ac411db852b791678ac17c",
       "version_major": 2,
       "version_minor": 0
      },
      "text/plain": [
       "(pid=50254) Shuffle Map 3:   0%|                                                          | 0.00/1.00 [00:00<?…"
      ]
     },
     "metadata": {},
     "output_type": "display_data"
    },
    {
     "data": {
      "application/vnd.jupyter.widget-view+json": {
       "model_id": "70895965cd064cabb5d1e449d48dad88",
       "version_major": 2,
       "version_minor": 0
      },
      "text/plain": [
       "(pid=50254) Shuffle Reduce 4:   0%|                                                       | 0.00/1.00 [00:00<?…"
      ]
     },
     "metadata": {},
     "output_type": "display_data"
    },
    {
     "name": "stdout",
     "output_type": "stream",
     "text": [
      "\u001b[36m(base_simple_ray_queries pid=50254)\u001b[0m File results_ray_simple_queries_csv/results_ray_base_simple_200k_TEST.txt created/updated successfully!\n",
      "\u001b[36m(base_simple_ray_queries pid=50254)\u001b[0m simple,Q5,0.7616517543792725,1200496\n"
     ]
    },
    {
     "data": {
      "application/vnd.jupyter.widget-view+json": {
       "model_id": "72e08b331a614208aca14972fd297d59",
       "version_major": 2,
       "version_minor": 0
      },
      "text/plain": [
       "(pid=50254) Running 0: 0.00 row [00:00, ? row/s]"
      ]
     },
     "metadata": {},
     "output_type": "display_data"
    },
    {
     "data": {
      "application/vnd.jupyter.widget-view+json": {
       "model_id": "7b137dfab068416bb5c8a63e0ff29fe5",
       "version_major": 2,
       "version_minor": 0
      },
      "text/plain": [
       "(pid=50254) Sort Sample 2:   0%|                                                          | 0.00/1.00 [00:00<?…"
      ]
     },
     "metadata": {},
     "output_type": "display_data"
    },
    {
     "data": {
      "application/vnd.jupyter.widget-view+json": {
       "model_id": "076e6a3aef784108a3362a2e48eca363",
       "version_major": 2,
       "version_minor": 0
      },
      "text/plain": [
       "(pid=50254) Shuffle Map 3:   0%|                                                          | 0.00/1.00 [00:00<?…"
      ]
     },
     "metadata": {},
     "output_type": "display_data"
    },
    {
     "data": {
      "application/vnd.jupyter.widget-view+json": {
       "model_id": "f1d674ff81ba46c99c54637c5b5122f3",
       "version_major": 2,
       "version_minor": 0
      },
      "text/plain": [
       "(pid=50254) Shuffle Reduce 4:   0%|                                                       | 0.00/1.00 [00:00<?…"
      ]
     },
     "metadata": {},
     "output_type": "display_data"
    },
    {
     "name": "stderr",
     "output_type": "stream",
     "text": [
      "\u001b[36m(base_simple_ray_queries pid=50254)\u001b[0m Starting execution of Dataset. Full logs are in /tmp/ray/session_2024-11-25_11-22-15_763215_49327/logs/ray-data\n",
      "\u001b[36m(base_simple_ray_queries pid=50254)\u001b[0m Execution plan of Dataset: InputDataBuffer[Input] -> TaskPoolMapOperator[ReadCSV] -> AllToAllOperator[Aggregate]\n"
     ]
    },
    {
     "name": "stdout",
     "output_type": "stream",
     "text": [
      "\u001b[36m(base_simple_ray_queries pid=50254)\u001b[0m File results_ray_simple_queries_csv/results_ray_base_simple_200k_TEST.txt created/updated successfully!\n",
      "\u001b[36m(base_simple_ray_queries pid=50254)\u001b[0m simple,Q6,0.5755198001861572,5988\n"
     ]
    },
    {
     "data": {
      "application/vnd.jupyter.widget-view+json": {
       "model_id": "49bf1d99eefd4d739447cba7784bd991",
       "version_major": 2,
       "version_minor": 0
      },
      "text/plain": [
       "(pid=50254) Running 0: 0.00 row [00:00, ? row/s]"
      ]
     },
     "metadata": {},
     "output_type": "display_data"
    },
    {
     "data": {
      "application/vnd.jupyter.widget-view+json": {
       "model_id": "71ad933e645845e6bad514619f750e59",
       "version_major": 2,
       "version_minor": 0
      },
      "text/plain": [
       "(pid=50254) Sort Sample 2:   0%|                                                          | 0.00/1.00 [00:00<?…"
      ]
     },
     "metadata": {},
     "output_type": "display_data"
    },
    {
     "data": {
      "application/vnd.jupyter.widget-view+json": {
       "model_id": "d8434b6400ee421c8e0872495f4bd5f6",
       "version_major": 2,
       "version_minor": 0
      },
      "text/plain": [
       "(pid=50254) Shuffle Map 3:   0%|                                                          | 0.00/1.00 [00:00<?…"
      ]
     },
     "metadata": {},
     "output_type": "display_data"
    },
    {
     "data": {
      "application/vnd.jupyter.widget-view+json": {
       "model_id": "b48ed46411554d518611da99f4a69c8a",
       "version_major": 2,
       "version_minor": 0
      },
      "text/plain": [
       "(pid=50254) Shuffle Reduce 4:   0%|                                                       | 0.00/1.00 [00:00<?…"
      ]
     },
     "metadata": {},
     "output_type": "display_data"
    },
    {
     "name": "stderr",
     "output_type": "stream",
     "text": [
      "\u001b[36m(base_simple_ray_queries pid=50254)\u001b[0m Starting execution of Dataset. Full logs are in /tmp/ray/session_2024-11-25_11-22-15_763215_49327/logs/ray-data\n",
      "\u001b[36m(base_simple_ray_queries pid=50254)\u001b[0m Execution plan of Dataset: InputDataBuffer[Input] -> TaskPoolMapOperator[ReadCSV] -> AllToAllOperator[Aggregate]\n"
     ]
    },
    {
     "name": "stdout",
     "output_type": "stream",
     "text": [
      "\u001b[36m(base_simple_ray_queries pid=50254)\u001b[0m File results_ray_simple_queries_csv/results_ray_base_simple_200k_TEST.txt created/updated successfully!\n",
      "\u001b[36m(base_simple_ray_queries pid=50254)\u001b[0m simple,Q7,0.5712475776672363,5988\n"
     ]
    },
    {
     "data": {
      "application/vnd.jupyter.widget-view+json": {
       "model_id": "ba5d1c0c78bb4e27bf4734c1b980e9d9",
       "version_major": 2,
       "version_minor": 0
      },
      "text/plain": [
       "(pid=50254) Running 0: 0.00 row [00:00, ? row/s]"
      ]
     },
     "metadata": {},
     "output_type": "display_data"
    },
    {
     "data": {
      "application/vnd.jupyter.widget-view+json": {
       "model_id": "ab029d83689d429094f8dfae1b459317",
       "version_major": 2,
       "version_minor": 0
      },
      "text/plain": [
       "(pid=50254) Sort Sample 2:   0%|                                                          | 0.00/1.00 [00:00<?…"
      ]
     },
     "metadata": {},
     "output_type": "display_data"
    },
    {
     "data": {
      "application/vnd.jupyter.widget-view+json": {
       "model_id": "7bed283d36864da2acc7358f0236c237",
       "version_major": 2,
       "version_minor": 0
      },
      "text/plain": [
       "(pid=50254) Shuffle Map 3:   0%|                                                          | 0.00/1.00 [00:00<?…"
      ]
     },
     "metadata": {},
     "output_type": "display_data"
    },
    {
     "data": {
      "application/vnd.jupyter.widget-view+json": {
       "model_id": "f9d02492387446909bd6ae4d6113119f",
       "version_major": 2,
       "version_minor": 0
      },
      "text/plain": [
       "(pid=50254) Shuffle Reduce 4:   0%|                                                       | 0.00/1.00 [00:00<?…"
      ]
     },
     "metadata": {},
     "output_type": "display_data"
    },
    {
     "name": "stderr",
     "output_type": "stream",
     "text": [
      "\u001b[36m(base_simple_ray_queries pid=50254)\u001b[0m Starting execution of Dataset. Full logs are in /tmp/ray/session_2024-11-25_11-22-15_763215_49327/logs/ray-data\n",
      "\u001b[36m(base_simple_ray_queries pid=50254)\u001b[0m Execution plan of Dataset: InputDataBuffer[Input] -> TaskPoolMapOperator[ReadCSV] -> AllToAllOperator[Aggregate]\n"
     ]
    },
    {
     "name": "stdout",
     "output_type": "stream",
     "text": [
      "\u001b[36m(base_simple_ray_queries pid=50254)\u001b[0m File results_ray_simple_queries_csv/results_ray_base_simple_200k_TEST.txt created/updated successfully!\n",
      "\u001b[36m(base_simple_ray_queries pid=50254)\u001b[0m simple,Q8,1.161604642868042,5988\n"
     ]
    },
    {
     "data": {
      "application/vnd.jupyter.widget-view+json": {
       "model_id": "fd5f7365bd6b46a0a25fb2755855edd9",
       "version_major": 2,
       "version_minor": 0
      },
      "text/plain": [
       "(pid=50254) Running 0: 0.00 row [00:00, ? row/s]"
      ]
     },
     "metadata": {},
     "output_type": "display_data"
    },
    {
     "data": {
      "application/vnd.jupyter.widget-view+json": {
       "model_id": "3e58b599dc4e443db5ba719d0cd760c4",
       "version_major": 2,
       "version_minor": 0
      },
      "text/plain": [
       "(pid=50254) Sort Sample 2:   0%|                                                          | 0.00/1.00 [00:00<?…"
      ]
     },
     "metadata": {},
     "output_type": "display_data"
    },
    {
     "data": {
      "application/vnd.jupyter.widget-view+json": {
       "model_id": "20296ae1bb9b4341ba8d93e19116f365",
       "version_major": 2,
       "version_minor": 0
      },
      "text/plain": [
       "(pid=50254) Shuffle Map 3:   0%|                                                          | 0.00/1.00 [00:00<?…"
      ]
     },
     "metadata": {},
     "output_type": "display_data"
    },
    {
     "data": {
      "application/vnd.jupyter.widget-view+json": {
       "model_id": "d0803a368a324a79b0003db653145d1f",
       "version_major": 2,
       "version_minor": 0
      },
      "text/plain": [
       "(pid=50254) Shuffle Reduce 4:   0%|                                                       | 0.00/1.00 [00:00<?…"
      ]
     },
     "metadata": {},
     "output_type": "display_data"
    },
    {
     "name": "stderr",
     "output_type": "stream",
     "text": [
      "\u001b[36m(base_simple_ray_queries pid=50254)\u001b[0m Starting execution of Dataset. Full logs are in /tmp/ray/session_2024-11-25_11-22-15_763215_49327/logs/ray-data\n",
      "\u001b[36m(base_simple_ray_queries pid=50254)\u001b[0m Execution plan of Dataset: InputDataBuffer[Input] -> TaskPoolMapOperator[ReadCSV] -> AllToAllOperator[Aggregate]\n"
     ]
    },
    {
     "name": "stdout",
     "output_type": "stream",
     "text": [
      "\u001b[36m(base_simple_ray_queries pid=50254)\u001b[0m File results_ray_simple_queries_csv/results_ray_base_simple_200k_TEST.txt created/updated successfully!\n",
      "\u001b[36m(base_simple_ray_queries pid=50254)\u001b[0m simple,Q9,0.5451247692108154,5988\n"
     ]
    },
    {
     "data": {
      "application/vnd.jupyter.widget-view+json": {
       "model_id": "c7a288ed413a41a6b99f1cf514a1eb4f",
       "version_major": 2,
       "version_minor": 0
      },
      "text/plain": [
       "(pid=50254) Running 0: 0.00 row [00:00, ? row/s]"
      ]
     },
     "metadata": {},
     "output_type": "display_data"
    },
    {
     "data": {
      "application/vnd.jupyter.widget-view+json": {
       "model_id": "b02e47c2f96e4afa969ee7d8bfab7301",
       "version_major": 2,
       "version_minor": 0
      },
      "text/plain": [
       "(pid=50254) Sort Sample 2:   0%|                                                          | 0.00/1.00 [00:00<?…"
      ]
     },
     "metadata": {},
     "output_type": "display_data"
    },
    {
     "data": {
      "application/vnd.jupyter.widget-view+json": {
       "model_id": "9b9b1fe6b69241ccaa47cd05fb883dd8",
       "version_major": 2,
       "version_minor": 0
      },
      "text/plain": [
       "(pid=50254) Shuffle Map 3:   0%|                                                          | 0.00/1.00 [00:00<?…"
      ]
     },
     "metadata": {},
     "output_type": "display_data"
    },
    {
     "data": {
      "application/vnd.jupyter.widget-view+json": {
       "model_id": "052f8ab72f5142f59f7509d79b83114b",
       "version_major": 2,
       "version_minor": 0
      },
      "text/plain": [
       "(pid=50254) Shuffle Reduce 4:   0%|                                                       | 0.00/1.00 [00:00<?…"
      ]
     },
     "metadata": {},
     "output_type": "display_data"
    },
    {
     "name": "stderr",
     "output_type": "stream",
     "text": [
      "\u001b[36m(base_simple_ray_queries pid=50254)\u001b[0m Starting execution of Dataset. Full logs are in /tmp/ray/session_2024-11-25_11-22-15_763215_49327/logs/ray-data\n",
      "\u001b[36m(base_simple_ray_queries pid=50254)\u001b[0m Execution plan of Dataset: InputDataBuffer[Input] -> TaskPoolMapOperator[ReadCSV] -> AllToAllOperator[Aggregate]\n"
     ]
    }
   ],
   "source": [
    "import itertools as it\n",
    "import numpy as np\n",
    "import pandas as pd\n",
    "import pyarrow\n",
    "import numba\n",
    "import cython\n",
    "from time import time\n",
    "import os\n",
    "import matplotlib.pyplot as plt\n",
    "import gc\n",
    "import numpy as np\n",
    "import json\n",
    "import resource\n",
    "import numpy as np\n",
    "import ray\n",
    "import ray.data as rd\n",
    "from ray.data.aggregate import AggregateFn\n",
    "\n",
    "# Initialize Ray\n",
    "ray.init(_temp_dir=\"/tmp/ray\", object_store_memory=10**9)\n",
    "\n",
    "# Function to log results to a file\n",
    "def log_results_to_file(result_file, time, memory):\n",
    "    with open(result_file, 'a') as f:\n",
    "        f.write(f\"Times: {time}, Memory: {memory}\\n\")\n",
    "    \n",
    "    # Check if the file was created\n",
    "    if os.path.exists(result_file):\n",
    "        print(f\"File {result_file} created/updated successfully!\")\n",
    "    else:\n",
    "        print(f\"Error: {result_file} was not created.\")\n",
    "\n",
    "@ray.remote\n",
    "def base_simple_ray_queries(log_dir, result_file):\n",
    "    print(f\",base_simple_ray_queries\")\n",
    "    \n",
    "    # Load the dataset using Ray\n",
    "    df = rd.read_csv(log_dir)\n",
    "    query_index = 0\n",
    "\n",
    "    for ix in ['filename', 'application']:\n",
    "        for col in ['request_io_size_bytes', 'file_offset', 'response_io_size_bytes', 'disk_time', 'simulated_latency']:\n",
    "            query_index += 1\n",
    "            t1 = time()\n",
    "            \n",
    "            try:\n",
    "                res = df.groupby([ix]).sum(col).materialize()\n",
    "\n",
    "                # Compute memory usage (approximation)\n",
    "                if isinstance(res, ray.data.Dataset):\n",
    "                    memory_usage = res.size_bytes()\n",
    "                else:\n",
    "                    memory_usage = res.memory_usage(deep=True).sum()\n",
    "\n",
    "                time_elapsed = time() - t1\n",
    "\n",
    "                # Store the time and memory usage for graphing later\n",
    "                log_results_to_file(result_file, time_elapsed, memory_usage)\n",
    "\n",
    "                print(f\"simple,Q{query_index},{time_elapsed},{memory_usage}\")\n",
    "\n",
    "            except Exception as e:\n",
    "                print(f\"Error in query {query_index}: {e}\")\n",
    "                res = None\n",
    "                continue\n",
    "\n",
    "    # Cleanup\n",
    "    del df, res\n",
    "    gc.collect()\n",
    "\n",
    "@ray.remote\n",
    "def iomax_simple_ray_queries(log_dir, result_file):\n",
    "    print(f\",iomax_simple_ray_queries\")\n",
    "    query_index = 0\n",
    "    cols = ['request_io_size_bytes', 'file_offset', 'response_io_size_bytes', 'disk_time', 'simulated_latency']\n",
    "\n",
    "    # Load dataset with Ray\n",
    "    df = ray.data.read_csv(f\"{log_dir}\")\n",
    "\n",
    "    # Define aggregation functions\n",
    "    agg_fns = [\n",
    "        AggregateFn(\n",
    "            init=lambda _: 0,\n",
    "            accumulate_row=lambda acc, row: acc + row[col],\n",
    "            merge=lambda acc1, acc2: acc1 + acc2,\n",
    "            name=f\"{col}_sum\"\n",
    "        )\n",
    "        for col in cols\n",
    "    ]\n",
    "    x = None  # Placeholder for intermediate result\n",
    "\n",
    "    for ix in ['filename', 'application']:\n",
    "        for agg_fn, col in zip(agg_fns, cols):\n",
    "            query_index += 1\n",
    "            t1 = time()\n",
    "            memory_usage = 0\n",
    "\n",
    "            try:\n",
    "                if query_index == 1:\n",
    "                    # Perform the initial grouping and aggregation\n",
    "                    x = df.groupby(['filename', 'application']).aggregate(*agg_fns).materialize()\n",
    "                    # Compute memory usage (approximation)\n",
    "                    memory_usage = x.size_bytes()\n",
    "\n",
    "                # Perform subsequent group-by aggregations on the result\n",
    "                result = x.groupby([ix]).aggregate(\n",
    "                    AggregateFn(\n",
    "                        init=lambda _: 0,\n",
    "                        accumulate_row=lambda acc, row: acc + row[f\"{col}_sum\"],\n",
    "                        merge=lambda acc1, acc2: acc1 + acc2,\n",
    "                        name=f\"{col}_sum_final\"\n",
    "                    )\n",
    "                ).materialize()\n",
    "\n",
    "                time_elapsed = time() - t1\n",
    "\n",
    "                # Log results\n",
    "                log_results_to_file(result_file, time_elapsed, memory_usage)\n",
    "\n",
    "                print(f\"simple,Q{query_index},{time_elapsed},{memory_usage}\")\n",
    "\n",
    "            except Exception as e:\n",
    "                print(f\"Error in query {query_index}: {e}\")\n",
    "                continue\n",
    "\n",
    "    # Cleanup\n",
    "    del df, x\n",
    "    gc.collect()\n",
    "\n",
    "ray.get(iomax_simple_ray_queries.remote(\"../datasets_thesios_io_traces/dataset-125m.csv\", \"results_ray_simple_queries_csv/results_ray_iomax_simple__TEST.txt\"))\n",
    "\n",
    "# Shut down Ray after queries complete\n",
    "ray.shutdown()"
   ]
  },
  {
   "cell_type": "code",
   "execution_count": null,
   "id": "ec92d151-c442-4413-a58f-41c9d5301edb",
   "metadata": {},
   "outputs": [],
   "source": []
  }
 ],
 "metadata": {
  "kernelspec": {
   "display_name": "Python 3 (ipykernel)",
   "language": "python",
   "name": "python3"
  },
  "language_info": {
   "codemirror_mode": {
    "name": "ipython",
    "version": 3
   },
   "file_extension": ".py",
   "mimetype": "text/x-python",
   "name": "python",
   "nbconvert_exporter": "python",
   "pygments_lexer": "ipython3",
   "version": "3.11.10"
  }
 },
 "nbformat": 4,
 "nbformat_minor": 5
}
