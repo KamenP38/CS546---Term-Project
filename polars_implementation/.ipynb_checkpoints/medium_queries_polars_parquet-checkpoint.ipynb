{
 "cells": [
  {
   "cell_type": "code",
   "execution_count": null,
   "id": "434bac3e-1ecb-4c05-bddc-9abdab2b6556",
   "metadata": {},
   "outputs": [
    {
     "name": "stdout",
     "output_type": "stream",
     "text": [
      ",iomax_medium_polars_queries\n"
     ]
    }
   ],
   "source": [
    "import polars as pl\n",
    "import os\n",
    "import time\n",
    "import resource\n",
    "\n",
    "# Log results to a file\n",
    "def log_results_to_file(result_file, time_elapsed, memory_usage):\n",
    "    with open(result_file, 'a') as f:\n",
    "        f.write(f\"Times: {time_elapsed}, Memory: {memory_usage}\\n\")\n",
    "    \n",
    "    if os.path.exists(result_file):\n",
    "        print(f\"File {result_file} created/updated successfully!\")\n",
    "    else:\n",
    "        print(f\"Error: {result_file} was not created.\")\n",
    "\n",
    "# def get_memory_usage():\n",
    "#     return resource.getrusage(resource.RUSAGE_SELF).ru_maxrss  # Memory in KB\n",
    "\n",
    "# Base Medium Polars Queries with LazyFrame\n",
    "def base_medium_polars_queries(log_dir, result_file):\n",
    "    print(\",base_medium_polars_queries\")\n",
    "    df = pl.scan_parquet(log_dir)  # Lazy loading of parquet\n",
    "    query_index = 0\n",
    "    combinations = [('op_type', 'service_class')]\n",
    "\n",
    "    for ix, iy in combinations:\n",
    "        for col in ['disk_io_size_bytes', 'disk_time']:\n",
    "            query_index += 1\n",
    "            t1 = time.time()\n",
    "            \n",
    "            # Perform first group_by aggregation on two columns\n",
    "            res = df.group_by([ix, iy]).agg(pl.col(col).sum())\n",
    "            \n",
    "            # Perform secondary aggregation on the result of the first aggregation\n",
    "            res = res.group_by(ix).agg(pl.col(col).sum()).collect()\n",
    "            \n",
    "            # Measure time and memory usage\n",
    "            time_elapsed = time.time() - t1\n",
    "            memory_usage = res.estimated_size()\n",
    "\n",
    "            # Log results\n",
    "            log_results_to_file(result_file, time_elapsed, memory_usage)\n",
    "            print(f\"medium,Q{query_index},{time_elapsed},{memory_usage}\")\n",
    "\n",
    "# IOMAX Medium Polars Queries with LazyFrame\n",
    "def iomax_medium_polars_queries(log_dir, result_file):\n",
    "    print(\",iomax_medium_polars_queries\")\n",
    "    df = pl.scan_parquet(log_dir)  # Lazy loading of parquet\n",
    "    query_index = 0\n",
    "    combinations = [('op_type', 'service_class')]\n",
    "\n",
    "    for ix, iy in combinations:\n",
    "        for col in ['disk_io_size_bytes', 'disk_time']:\n",
    "            query_index += 1\n",
    "            t1 = time.time()\n",
    "            memory_usage = 0\n",
    "            \n",
    "            # Perform first aggregation for memory measurement on the first query only\n",
    "            if query_index == 1:\n",
    "                x = df.group_by([ix, iy]).agg([\n",
    "                    pl.col(\"disk_io_size_bytes\").sum(),\n",
    "                    pl.col(\"disk_time\").sum()\n",
    "                ]).collect()\n",
    "                memory_usage = get_memory_usage()\n",
    "\n",
    "            # Secondary group_by and aggregation on individual column\n",
    "            res = x.group_by(ix).agg(pl.col(col).sum())\n",
    "            time_elapsed = time.time() - t1\n",
    "\n",
    "            # Log results\n",
    "            log_results_to_file(result_file, time_elapsed, memory_usage)\n",
    "            print(f\"medium,Q{query_index},{time_elapsed},{memory_usage}\")\n",
    "\n",
    "# Example calls\n",
    "iomax_medium_polars_queries(\"../datasets_thesios_io_traces/dataset-125m\", \"results_rust_medium_queries_parquet/results_parquet_rust_iomax_medium_125m.txt\")"
   ]
  },
  {
   "cell_type": "code",
   "execution_count": null,
   "id": "8b504126-e5b4-48e0-9e77-6302be8d7df7",
   "metadata": {},
   "outputs": [],
   "source": []
  }
 ],
 "metadata": {
  "kernelspec": {
   "display_name": "Python 3 (ipykernel)",
   "language": "python",
   "name": "python3"
  },
  "language_info": {
   "codemirror_mode": {
    "name": "ipython",
    "version": 3
   },
   "file_extension": ".py",
   "mimetype": "text/x-python",
   "name": "python",
   "nbconvert_exporter": "python",
   "pygments_lexer": "ipython3",
   "version": "3.11.10"
  }
 },
 "nbformat": 4,
 "nbformat_minor": 5
}
