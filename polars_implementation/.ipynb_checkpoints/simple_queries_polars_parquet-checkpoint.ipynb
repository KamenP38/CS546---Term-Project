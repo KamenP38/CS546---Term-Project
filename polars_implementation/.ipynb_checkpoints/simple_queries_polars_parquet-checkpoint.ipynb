{
 "cells": [
  {
   "cell_type": "code",
   "execution_count": null,
   "id": "850d3471-374c-44a8-9961-412ea52eb4a6",
   "metadata": {},
   "outputs": [
    {
     "name": "stdout",
     "output_type": "stream",
     "text": [
      ",iomax_simple_polars_queries\n"
     ]
    }
   ],
   "source": [
    "import polars as pl\n",
    "import os\n",
    "import time\n",
    "import sys\n",
    "import resource\n",
    "\n",
    "# Log results to a file\n",
    "def log_results_to_file(result_file, time_elapsed, memory_usage):\n",
    "    with open(result_file, 'a') as f:\n",
    "        f.write(f\"Times: {time_elapsed}, Memory: {memory_usage}\\n\")\n",
    "    \n",
    "    # Check if the file was created\n",
    "    if os.path.exists(result_file):\n",
    "        print(f\"File {result_file} created/updated successfully!\")\n",
    "    else:\n",
    "        print(f\"Error: {result_file} was not created.\")\n",
    "\n",
    "# Base Polars queries with LazyFrame\n",
    "def base_simple_polars_queries(log_dir, result_file):\n",
    "    print(\",base_simple_polars_queries\")\n",
    "    df = pl.scan_parquet(log_dir)  # Lazy reading of the parquet\n",
    "    query_index = 0\n",
    "\n",
    "    for ix in ['redundancy_type', 'service_class']:\n",
    "        for col in ['request_io_size_bytes', 'disk_io_size_bytes', 'response_io_size_bytes', 'disk_time', 'simulated_latency']: \n",
    "            query_index += 1 \n",
    "            t1 = time.time()\n",
    "            \n",
    "            res = df.group_by(ix).agg([pl.col(col).sum()]).collect()\n",
    "            time_elapsed = time.time() - t1\n",
    "\n",
    "            # Memory usage\n",
    "            memory_usage = res.estimated_size()\n",
    "\n",
    "            log_results_to_file(result_file, time_elapsed, memory_usage)\n",
    "\n",
    "            print(f\"simple,Q{query_index},{time_elapsed},{memory_usage}\")\n",
    "\n",
    "# IOMAX Polars queries with LazyFrame\n",
    "def iomax_simple_polars_queries(log_dir, result_file):\n",
    "    print(\",iomax_simple_polars_queries\")\n",
    "    query_index = 0\n",
    "    df = pl.scan_parquet(log_dir)  # Lazy reading of the parquet\n",
    "    cols = ['request_io_size_bytes', 'disk_io_size_bytes', 'response_io_size_bytes', 'disk_time', 'simulated_latency']\n",
    "    agg_dict = [pl.col(col).sum() for col in cols]\n",
    "    for ix in ['redundancy_type', 'service_class']:\n",
    "        for col in cols:\n",
    "            query_index += 1\n",
    "            t1 = time.time()\n",
    "            memory_usage = 0\n",
    "            if query_index == 1:\n",
    "                x = df.group_by([\"redundancy_type\", \"service_class\"]).agg(agg_dict).collect()\n",
    "                memory_usage = x.estimated_size()\n",
    "            res = x.group_by(ix).agg([pl.col(col).sum()])\n",
    "            time_elapsed = time.time() - t1\n",
    "\n",
    "            log_results_to_file(result_file, time_elapsed, memory_usage)\n",
    "\n",
    "            print(f\"simple,Q{query_index},{time_elapsed},{memory_usage}\")\n",
    "\n",
    "iomax_simple_polars_queries(\"../datasets_thesios_io_traces/dataset-125m\", \"results_rust_simple_queries_parquet/results_parquet_rust_iomax_simple_125m.txt\")"
   ]
  },
  {
   "cell_type": "code",
   "execution_count": null,
   "id": "108a9a6f-e251-49d6-9ec3-de2be73bb0f1",
   "metadata": {},
   "outputs": [],
   "source": []
  }
 ],
 "metadata": {
  "kernelspec": {
   "display_name": "Python 3 (ipykernel)",
   "language": "python",
   "name": "python3"
  },
  "language_info": {
   "codemirror_mode": {
    "name": "ipython",
    "version": 3
   },
   "file_extension": ".py",
   "mimetype": "text/x-python",
   "name": "python",
   "nbconvert_exporter": "python",
   "pygments_lexer": "ipython3",
   "version": "3.11.10"
  }
 },
 "nbformat": 4,
 "nbformat_minor": 5
}
