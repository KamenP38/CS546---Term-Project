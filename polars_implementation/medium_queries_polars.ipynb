{
 "cells": [
  {
   "cell_type": "code",
   "execution_count": 1,
   "id": "1ef89717-6108-4dce-b4a6-99e46d8ecda3",
   "metadata": {},
   "outputs": [
    {
     "name": "stdout",
     "output_type": "stream",
     "text": [
      ",base_medium_polars_queries\n",
      "File results_rust_medium_queries_csv/results_rust_plain_medium_125m.txt created/updated successfully!\n",
      "medium,Q1,167.08983635902405,303038352\n",
      "File results_rust_medium_queries_csv/results_rust_plain_medium_125m.txt created/updated successfully!\n",
      "medium,Q2,89.22701263427734,303038352\n",
      "File results_rust_medium_queries_csv/results_rust_plain_medium_125m.txt created/updated successfully!\n",
      "medium,Q3,63.051602363586426,303038352\n",
      "File results_rust_medium_queries_csv/results_rust_plain_medium_125m.txt created/updated successfully!\n",
      "medium,Q4,78.68493509292603,303038352\n",
      "File results_rust_medium_queries_csv/results_rust_plain_medium_125m.txt created/updated successfully!\n",
      "medium,Q5,74.0441517829895,303038352\n",
      "File results_rust_medium_queries_csv/results_rust_plain_medium_125m.txt created/updated successfully!\n",
      "medium,Q6,79.70606541633606,303038352\n",
      "File results_rust_medium_queries_csv/results_rust_plain_medium_125m.txt created/updated successfully!\n",
      "medium,Q7,45.09219264984131,64416\n",
      "File results_rust_medium_queries_csv/results_rust_plain_medium_125m.txt created/updated successfully!\n",
      "medium,Q8,48.250852823257446,64416\n",
      "File results_rust_medium_queries_csv/results_rust_plain_medium_125m.txt created/updated successfully!\n",
      "medium,Q9,45.556928634643555,64416\n",
      "File results_rust_medium_queries_csv/results_rust_plain_medium_125m.txt created/updated successfully!\n",
      "medium,Q10,39.89940428733826,64416\n"
     ]
    }
   ],
   "source": [
    "import polars as pl\n",
    "import os\n",
    "import time\n",
    "import resource\n",
    "import itertools as it\n",
    "\n",
    "\n",
    "# Log results to a file\n",
    "def log_results_to_file(result_file, time_elapsed, memory_usage):\n",
    "    with open(result_file, 'a') as f:\n",
    "        f.write(f\"Times: {time_elapsed}, Memory: {memory_usage}\\n\")\n",
    "    \n",
    "    if os.path.exists(result_file):\n",
    "        print(f\"File {result_file} created/updated successfully!\")\n",
    "    else:\n",
    "        print(f\"Error: {result_file} was not created.\")\n",
    "\n",
    "indices = ['filename', 'application', 'io_zone', 'redundancy_type']\n",
    "combinations = list(it.combinations(indices, r=2))[:5]\n",
    "\n",
    "# Base Medium Polars Queries with LazyFrame\n",
    "def base_medium_polars_queries(log_dir, result_file):\n",
    "    print(\",base_medium_polars_queries\")\n",
    "    df = pl.scan_csv(log_dir)  # Lazy loading of CSV\n",
    "    query_index = 0\n",
    "    for ix, iy in combinations:\n",
    "        for col in ['request_io_size_bytes', 'disk_time']:\n",
    "            query_index += 1\n",
    "            t1 = time.time()\n",
    "            \n",
    "            res = df.group_by([ix, iy]).agg(pl.col(col).sum())\n",
    "            \n",
    "            res = res.group_by(ix).agg(pl.col(col).sum()).collect(streaming=True)\n",
    "            \n",
    "            # Measure time and memory usage\n",
    "            time_elapsed = time.time() - t1\n",
    "            memory_usage = res.estimated_size()\n",
    "\n",
    "            # Log results\n",
    "            log_results_to_file(result_file, time_elapsed, memory_usage)\n",
    "            print(f\"medium,Q{query_index},{time_elapsed},{memory_usage}\")\n",
    "\n",
    "# IOMAX Medium Polars Queries with LazyFrame\n",
    "def iomax_medium_polars_queries(log_dir, result_file):\n",
    "    print(\",iomax_medium_polars_queries\")\n",
    "    df = pl.scan_csv(log_dir)  # Lazy loading of CSV\n",
    "    query_index = 0\n",
    "    for ix, iy in combinations:\n",
    "        for col in ['request_io_size_bytes', 'disk_time']:\n",
    "            query_index += 1\n",
    "            t1 = time.time()\n",
    "            memory_usage = 0\n",
    "            \n",
    "            if query_index == 1:\n",
    "                x = df.group_by(indices).agg([\n",
    "                    pl.col(\"request_io_size_bytes\").sum(),\n",
    "                    pl.col(\"disk_time\").sum()\n",
    "                ]).collect(streaming=True)\n",
    "                memory_usage = x.estimated_size()\n",
    "\n",
    "            res = x.group_by([ix, iy]).agg(pl.col(col).sum())\n",
    "            res = res.group_by(ix).agg(pl.col(col).sum())\n",
    "            time_elapsed = time.time() - t1\n",
    "\n",
    "            # Log results\n",
    "            log_results_to_file(result_file, time_elapsed, memory_usage)\n",
    "            print(f\"medium,Q{query_index},{time_elapsed},{memory_usage}\")\n",
    "\n",
    "base_medium_polars_queries(\"../datasets_thesios_io_traces/dataset-125m.csv\", \"results_rust_medium_queries_csv/results_rust_plain_medium_125m.txt\")"
   ]
  },
  {
   "cell_type": "code",
   "execution_count": 2,
   "id": "3ea89a7d-d1ef-4556-b7be-9da6ca6d8124",
   "metadata": {},
   "outputs": [
    {
     "name": "stdout",
     "output_type": "stream",
     "text": [
      "1.13.1\n"
     ]
    }
   ],
   "source": [
    "import polars as pl\n",
    "print(pl.__version__)"
   ]
  }
 ],
 "metadata": {
  "kernelspec": {
   "display_name": "Python 3 (ipykernel)",
   "language": "python",
   "name": "python3"
  },
  "language_info": {
   "codemirror_mode": {
    "name": "ipython",
    "version": 3
   },
   "file_extension": ".py",
   "mimetype": "text/x-python",
   "name": "python",
   "nbconvert_exporter": "python",
   "pygments_lexer": "ipython3",
   "version": "3.11.10"
  }
 },
 "nbformat": 4,
 "nbformat_minor": 5
}
